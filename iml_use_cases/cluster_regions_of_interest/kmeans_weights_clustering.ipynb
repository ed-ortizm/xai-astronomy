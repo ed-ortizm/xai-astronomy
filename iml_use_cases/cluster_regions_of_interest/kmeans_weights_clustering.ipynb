{
 "cells": [
  {
   "attachments": {},
   "cell_type": "markdown",
   "metadata": {},
   "source": [
    "## Analyze clusters among anomalies\n",
    "The clustering approach can help to gain insight into the model by grouping the anomalous spectra into clusters based on their similarity in terms of the weights assigned by the LIME algorithm. This can help identify patterns or trends in the explanations that may not be immediately apparent from the weights alone.\n",
    "\n",
    "For example, certain clusters might have higher explanation weights for certain wavelength ranges, or certain clusters have higher explanation weights overall. This can help to understand which features of the spectra are most important for the model's predictions, and can potentially uncover new scientific insights.\n",
    "\n",
    "Additionally, by plotting the mean spectrum and mean explanation weights for each cluster, I can get a sense of how the model is using different features of the spectra to make its predictions, and identify any patterns or trends in the model's behavior that may be relevant to the anomaly detection task."
   ]
  },
  {
   "cell_type": "code",
   "execution_count": 1,
   "metadata": {},
   "outputs": [],
   "source": [
    "import os\n",
    "import pickle\n",
    "\n",
    "import matplotlib.pyplot as plt\n",
    "import numpy as np\n",
    "import pandas as pd\n",
    "from sklearn.cluster import KMeans\n",
    "\n",
    "from astroExplain.spectra.explanation import TellMeWhy\n",
    "from anomaly.constants import GALAXY_LINES"
   ]
  },
  {
   "cell_type": "code",
   "execution_count": 2,
   "metadata": {},
   "outputs": [],
   "source": [
    "# directories for data\n",
    "bin_id = \"bin_03\"\n",
    "user = \"/home/edgar\"\n",
    "work_directory = f\"{user}/spectra/0_01_z_0_5_4_0_snr_inf\"\n",
    "\n",
    "model = \"256_128_64/latent_12\"\n",
    "\n",
    "iml_use_case_directory = (\n",
    "    f\"{user}/explain-me-why/sections/figures/iml_use_cases\"\n",
    ")\n",
    "\n",
    "region_of_interest = \"weights_all_abs\"\n",
    "region_directory = (\n",
    "    f\"{iml_use_case_directory}/cluster_regions_of_interest/\"\n",
    "    f\"{region_of_interest}\"\n",
    ")\n",
    "\n",
    "# metric = \"mse_filter_250kms_noRel97\"\n",
    "metric = \"mse_noRel100\"\n",
    "# metric = \"mse_filter_250kms_noRel100\"\n",
    "# metric = \"mse_noRel97\"\n",
    "# metric = \"mse_filter_250kms_rel100\"\n",
    "# metric = \"mse_filter_250kms_rel97\"\n",
    "# metric = \"mse_rel100\"\n",
    "# metric = \"mse_rel97\"\n",
    "data_directory = (\n",
    "    f\"{work_directory}/{bin_id}/explanation/\"\n",
    "    f\"{model}/{metric}\"\n",
    ")"
   ]
  },
  {
   "cell_type": "code",
   "execution_count": 3,
   "metadata": {},
   "outputs": [
    {
     "data": {
      "text/plain": [
       "(0.0, 1.0)"
      ]
     },
     "execution_count": 3,
     "metadata": {},
     "output_type": "execute_result"
    }
   ],
   "source": [
    "wave = np.load(f\"{work_directory}/wave_spectra_imputed.npy\")\n",
    "\n",
    "anomalies = np.load(f\"{data_directory}/top_anomalies.npy\")\n",
    "\n",
    "df_anomalies = pd.read_csv(\n",
    "    f\"{data_directory}/top_anomalies.csv.gz\", index_col=\"specobjid\"\n",
    ")\n",
    "# load the weights\n",
    "explanation_weights = np.load(\n",
    "    f\"{data_directory}/explanation_weights/weights_all_abs_\"\n",
    "    f\"smooth_True_drop_0.05_{metric}_bin_03.npy\"\n",
    ")\n",
    "\n",
    "explanation_weights.min(), explanation_weights.max()"
   ]
  },
  {
   "cell_type": "code",
   "execution_count": 4,
   "metadata": {},
   "outputs": [
    {
     "data": {
      "text/plain": [
       "[<matplotlib.lines.Line2D at 0x7f8aa3dc4190>]"
      ]
     },
     "execution_count": 4,
     "metadata": {},
     "output_type": "execute_result"
    },
    {
     "data": {
      "image/png": "[encoded data removed]",
      "text/plain": [
       "<Figure size 432x288 with 1 Axes>"
      ]
     },
     "metadata": {
      "needs_background": "light"
     },
     "output_type": "display_data"
    }
   ],
   "source": [
    "# sort scores in descending order in place in the df\n",
    "df_anomalies.sort_values(by=\"score\", ascending=False, inplace=True)\n",
    "# reverse spectra in anomalies array as well\n",
    "anomalies = anomalies[::-1]\n",
    "plt.plot(df_anomalies[\"score\"].to_numpy())"
   ]
  },
  {
   "attachments": {},
   "cell_type": "markdown",
   "metadata": {},
   "source": [
    "# Inspect spectra in clusters"
   ]
  },
  {
   "cell_type": "code",
   "execution_count": 5,
   "metadata": {},
   "outputs": [
    {
     "name": "stdout",
     "output_type": "stream",
     "text": [
      "kmeans_mse_noRel100_bin_03.pkl\n"
     ]
    }
   ],
   "source": [
    "# load the Kmeans model\n",
    "head_model_name = \"kmeans\"\n",
    "# head_model_name = \"kmeans_\"\n",
    "# head_model_name = \"kmeans_\"\n",
    "# head_model_name = \"kmeans_\"\n",
    "# head_model_name = \"kmeans_\"\n",
    "\n",
    "if metric == \"mse_filter_250kms_noRel97\":\n",
    "\n",
    "    metric_name = \"MSE ($250$ km s$^{-1}$, ignore $3\\%$)\"\n",
    "    metric_directory = \"filter_mse\"\n",
    "\n",
    "    model_name = (\n",
    "        f\"{head_model_name}_mse_filter_250kms_noRel97_bin_03.pkl\"\n",
    "    )\n",
    "\n",
    "elif metric == \"mse_noRel100\":\n",
    "\n",
    "    metric_name = \"MSE\"\n",
    "    metric_directory = \"mse\"\n",
    "\n",
    "    model_name = (\n",
    "        f\"{head_model_name}_mse_noRel100_bin_03.pkl\"\n",
    "    )\n",
    "\n",
    "print(model_name)\n",
    "\n",
    "with open(f\"{region_directory}/{model_name}\", \"rb\") as f:\n",
    "    kmeans = pickle.load(f)"
   ]
  },
  {
   "attachments": {},
   "cell_type": "markdown",
   "metadata": {},
   "source": [
    "## Get spectra and explanation weights per cluster"
   ]
  },
  {
   "cell_type": "code",
   "execution_count": 6,
   "metadata": {},
   "outputs": [],
   "source": [
    "# set dictionary with np.array of anomalies and explanaion weights\n",
    "# per cluster label\n",
    "\n",
    "cluster_labels = kmeans.labels_\n",
    "unique_cluster_labels = np.unique(cluster_labels)\n",
    "\n",
    "spectra_in_cluster = {}\n",
    "weights_in_cluster = {}\n",
    "\n",
    "for cluster_label in unique_cluster_labels:\n",
    "\n",
    "\n",
    "    cluster_mask = cluster_labels == cluster_label\n",
    "\n",
    "    spectra_in_cluster[cluster_label + 1] = anomalies[cluster_mask]\n",
    "\n",
    "\n",
    "    weights_in_cluster[cluster_label + 1] = explanation_weights[\n",
    "        cluster_mask\n",
    "    ]\n",
    "    \n",
    "    # print(f\"Cluster: {cluster_label}\")\n",
    "    # print(f\"N. spectra: {spectra_in_cluster[cluster_label + 1].shape}\")\n",
    "    # print(f\"N. weights: {weights_in_cluster[cluster_label + 1].shape}\")\n"
   ]
  },
  {
   "cell_type": "code",
   "execution_count": 7,
   "metadata": {},
   "outputs": [],
   "source": [
    "# get indices of closes data points to centroids\n",
    "centroids = kmeans.cluster_centers_\n",
    "idx_closest_to_centroid = {}\n",
    "\n",
    "for label, cluster in weights_in_cluster.items():\n",
    "\n",
    "    cluster_centroid = centroids[label - 1].reshape(1, -1)\n",
    "\n",
    "    distances = np.sum((cluster - cluster_centroid)**2, axis=1)\n",
    "\n",
    "    idx_closest = np.argsort(distances)[:5]\n",
    "\n",
    "    idx_closest_to_centroid[label] = idx_closest"
   ]
  },
  {
   "cell_type": "code",
   "execution_count": 8,
   "metadata": {},
   "outputs": [
    {
     "name": "stdout",
     "output_type": "stream",
     "text": [
      "Cluster centroid index: 2260 cluster label: 1\n",
      "Cluster centroid index: 3958 cluster label: 1\n",
      "Cluster centroid index: 369 cluster label: 1\n",
      "Cluster centroid index: 2555 cluster label: 1\n",
      "Cluster centroid index: 2561 cluster label: 1\n",
      "Cluster centroid index: 767 cluster label: 2\n",
      "Cluster centroid index: 355 cluster label: 2\n",
      "Cluster centroid index: 103 cluster label: 2\n",
      "Cluster centroid index: 95 cluster label: 2\n",
      "Cluster centroid index: 450 cluster label: 2\n",
      "Cluster centroid index: 292 cluster label: 3\n",
      "Cluster centroid index: 497 cluster label: 3\n",
      "Cluster centroid index: 158 cluster label: 3\n",
      "Cluster centroid index: 269 cluster label: 3\n",
      "Cluster centroid index: 362 cluster label: 3\n",
      "Cluster centroid index: 212 cluster label: 4\n",
      "Cluster centroid index: 375 cluster label: 4\n",
      "Cluster centroid index: 710 cluster label: 4\n",
      "Cluster centroid index: 118 cluster label: 4\n",
      "Cluster centroid index: 397 cluster label: 4\n",
      "Cluster centroid index: 811 cluster label: 5\n",
      "Cluster centroid index: 135 cluster label: 5\n",
      "Cluster centroid index: 58 cluster label: 5\n",
      "Cluster centroid index: 347 cluster label: 5\n",
      "Cluster centroid index: 429 cluster label: 5\n",
      "Cluster centroid index: 713 cluster label: 6\n",
      "Cluster centroid index: 565 cluster label: 6\n",
      "Cluster centroid index: 976 cluster label: 6\n",
      "Cluster centroid index: 743 cluster label: 6\n",
      "Cluster centroid index: 1189 cluster label: 6\n"
     ]
    }
   ],
   "source": [
    "save_directory = (\n",
    "    f\"{region_directory}/{metric_directory}/closes_to_centroid\"\n",
    ")\n",
    "if os.path.exists(save_directory) is False:\n",
    "    os.makedirs(save_directory)\n",
    "\n",
    "\n",
    "for label, idx_closest in idx_closest_to_centroid.items():\n",
    "\n",
    "    for idx, centroid_index in enumerate(idx_closest):\n",
    "\n",
    "        fig, axs = plt.subplots(\n",
    "            nrows=2,\n",
    "            ncols=1,\n",
    "            figsize=None,\n",
    "            sharex=True,\n",
    "            sharey=False,\n",
    "            tight_layout=True,\n",
    "        )\n",
    "        # clear the axes for next plot\n",
    "        # for ax in axs.flatten(): ax.clear()\n",
    "        # clear figure for next plot\n",
    "        # fig.clear()\n",
    "\n",
    "        print(\n",
    "            f\"Cluster centroid index: {centroid_index} \"\n",
    "            f\"cluster label: {label}\"\n",
    "        )\n",
    "\n",
    "        # add title \n",
    "        fig.suptitle(\n",
    "            f\"[{idx +1}] Closest spectra to centroid of cluster {label}.\"\n",
    "            f\"\\nmetric: {metric_name}\",\n",
    "            fontsize=12,\n",
    "        )\n",
    "        # set minor ticks on\n",
    "        for ax in axs.flatten(): ax.minorticks_on()\n",
    "\n",
    "        # plot spectra and explanation weights of centroid\n",
    "\n",
    "        spectrum_close = spectra_in_cluster[label][centroid_index]\n",
    "        axs[0].plot(wave, spectrum_close, color=\"black\")\n",
    "\n",
    "        weights_close = weights_in_cluster[label][centroid_index]\n",
    "        axs[1].plot(wave, weights_close, color=\"black\")\n",
    "\n",
    "        axs[0].set_ylabel(\"Normalized flux\")\n",
    "        axs[1].set_ylabel(\"Explanation weights\")\n",
    "        axs[1].set_xlabel(\"$\\lambda$ [\\AA]\")\n",
    "        axs[1].set_ylim(0., 1.)\n",
    "\n",
    "        fig.savefig(\n",
    "            f\"{save_directory}/\"\n",
    "            f\"{idx +1}_centroid_spectra_cluster_{label}.pdf\"\n",
    "        )\n",
    "\n",
    "        # close the figure\n",
    "        plt.close(fig)"
   ]
  },
  {
   "cell_type": "code",
   "execution_count": null,
   "metadata": {},
   "outputs": [],
   "source": []
  },
  {
   "cell_type": "code",
   "execution_count": null,
   "metadata": {},
   "outputs": [],
   "source": []
  }
 ],
 "metadata": {
  "kernelspec": {
   "display_name": "Python 3",
   "language": "python",
   "name": "python3"
  },
  "language_info": {
   "codemirror_mode": {
    "name": "ipython",
    "version": 3
   },
   "file_extension": ".py",
   "mimetype": "text/x-python",
   "name": "python",
   "nbconvert_exporter": "python",
   "pygments_lexer": "ipython3",
   "version": "3.10.6"
  },
  "orig_nbformat": 4,
  "vscode": {
   "interpreter": {
    "hash": "916dbcbb3f70747c44a77c7bcd40155683ae19c65e1c03b4aa3499c5328201f1"
   }
  }
 },
 "nbformat": 4,
 "nbformat_minor": 2
}
