{
 "cells": [
  {
   "cell_type": "code",
   "execution_count": 14,
   "metadata": {},
   "outputs": [],
   "source": [
    "import os\n",
    "\n",
    "# Set environment variables to disable multithreading as users\n",
    "# will probably\n",
    "# want to set the number of cores to the max of their computer.\n",
    "os.environ[\"OMP_NUM_THREADS\"] = \"1\"\n",
    "os.environ[\"OPENBLAS_NUM_THREADS\"] = \"1\"\n",
    "os.environ[\"MKL_NUM_THREADS\"] = \"1\"\n",
    "os.environ[\"VECLIB_MAXIMUM_THREADS\"] = \"1\"\n",
    "os.environ[\"NUMEXPR_NUM_THREADS\"] = \"1\"\n",
    "#########################################################################\n",
    "# Set TensorFlow print of log information\n",
    "# 0 = all messages are logged (default behavior)\n",
    "# 1 = INFO messages are not printed\n",
    "# 2 = INFO and WARNING messages are not printed\n",
    "# 3 = INFO, WARNING, and ERROR messages are not printed\n",
    "os.environ[\"TF_CPP_MIN_LOG_LEVEL\"] = \"2\""
   ]
  },
  {
   "cell_type": "code",
   "execution_count": 15,
   "metadata": {},
   "outputs": [],
   "source": [
    "import matplotlib.pyplot as plt\n",
    "import numpy as np\n",
    "import pandas as pd"
   ]
  },
  {
   "cell_type": "code",
   "execution_count": 20,
   "metadata": {},
   "outputs": [],
   "source": [
    "from autoencoders.ae import AutoEncoder"
   ]
  },
  {
   "cell_type": "markdown",
   "metadata": {},
   "source": [
    "### Config file"
   ]
  },
  {
   "cell_type": "code",
   "execution_count": 17,
   "metadata": {},
   "outputs": [],
   "source": [
    "# directories\n",
    "user = \"/home/edgar/\"\n",
    "data_directory = f\"{user}/spectra/0_01_z_0_5_4_0_snr_inf\""
   ]
  },
  {
   "cell_type": "code",
   "execution_count": 18,
   "metadata": {},
   "outputs": [],
   "source": [
    "# load_data\n",
    "spectra = np.load(f\"{data_directory}/spectra_imputed.npy\", mmap_mode=\"r\")\n",
    "wave = np.load(f\"{data_directory}/wave_spectra_imputed.npy\")\n",
    "\n",
    "meta_data = pd.read_csv(\n",
    "    f\"{data_directory}/drop_0_01_z_0_5_4_0_snr_inf.csv.gz\",\n",
    "    index_col=\"specobjid\",\n",
    ")"
   ]
  },
  {
   "cell_type": "code",
   "execution_count": 21,
   "metadata": {},
   "outputs": [],
   "source": [
    "# load model\n",
    "bin_id = \"bin_03\"\n",
    "\n",
    "model_id = \"0021\"\n",
    "architecture = \"256_128_64/latent_12\"\n",
    "\n",
    "model = AutoEncoder(\n",
    "    reload=True,\n",
    "    reload_from=(\n",
    "        f\"{data_directory}/{bin_id}/models/\" f\"{architecture}/{model_id}\"\n",
    "    ),\n",
    ")"
   ]
  },
  {
   "cell_type": "markdown",
   "metadata": {},
   "source": [
    "### List of spectra to illustrate model behavior with data processing artifacts"
   ]
  },
  {
   "cell_type": "markdown",
   "metadata": {},
   "source": [
    "* L^2:\n",
    "    * 993: missing values\n",
    "    * 974: lack of a [OIII] line\n",
    "    * 969: lack of a sulfur line\n",
    "    * 930: weird line close to H beta\n",
    "    * 923: weird line close to [OIII] beta\n",
    "    \n",
    "\n",
    "* L^2 with filter\n",
    "    * 995: missing values\n",
    "\n",
    "* L^2 relative\n",
    "* L^2 relative with filter\n",
    "\n",
    "* L^2 97\n",
    "* L^2 97 with filter\n",
    "    * 9, 10: missing values\n",
    "* L^2 97 relative\n",
    "* L^2 97 relative with filter"
   ]
  },
  {
   "cell_type": "code",
   "execution_count": null,
   "metadata": {},
   "outputs": [],
   "source": []
  }
 ],
 "metadata": {
  "kernelspec": {
   "display_name": "Python 3.10.6 64-bit",
   "language": "python",
   "name": "python3"
  },
  "language_info": {
   "codemirror_mode": {
    "name": "ipython",
    "version": 3
   },
   "file_extension": ".py",
   "mimetype": "text/x-python",
   "name": "python",
   "nbconvert_exporter": "python",
   "pygments_lexer": "ipython3",
   "version": "3.10.6 (main, Nov 14 2022, 16:10:14) [GCC 11.3.0]"
  },
  "orig_nbformat": 4,
  "vscode": {
   "interpreter": {
    "hash": "916dbcbb3f70747c44a77c7bcd40155683ae19c65e1c03b4aa3499c5328201f1"
   }
  }
 },
 "nbformat": 4,
 "nbformat_minor": 2
}
