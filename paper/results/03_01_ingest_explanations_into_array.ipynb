{
 "cells": [
  {
   "cell_type": "markdown",
   "metadata": {},
   "source": [
    "# Ingest explations into array"
   ]
  },
  {
   "cell_type": "code",
   "execution_count": 1,
   "metadata": {},
   "outputs": [],
   "source": [
    "import os\n",
    "# Set environment variables to disable multithreading\n",
    "# as users will probably want to set the number of cores\n",
    "# to the max of their computer.\n",
    "os.environ[\"OMP_NUM_THREADS\"] = \"1\"\n",
    "os.environ[\"OPENBLAS_NUM_THREADS\"] = \"1\"\n",
    "os.environ[\"MKL_NUM_THREADS\"] = \"1\"\n",
    "os.environ[\"VECLIB_MAXIMUM_THREADS\"] = \"1\"\n",
    "os.environ[\"NUMEXPR_NUM_THREADS\"] = \"1\"\n",
    "\n",
    "os.environ[\"TF_CPP_MIN_LOG_LEVEL\"] = \"2\"\n"
   ]
  },
  {
   "cell_type": "code",
   "execution_count": 2,
   "metadata": {},
   "outputs": [],
   "source": [
    "import pickle\n",
    "\n",
    "import numpy as np\n",
    "import pandas as pd\n",
    "\n",
    "from astroExplain.spectra.explanation import TellMeWhy\n",
    "from anomaly.utils import specobjid_to_idx\n",
    "from autoencoders.ae import AutoEncoder\n",
    "from sdss.metadata import MetaData\n",
    "\n",
    "meta = MetaData()"
   ]
  },
  {
   "cell_type": "markdown",
   "metadata": {},
   "source": [
    "# Custom functions"
   ]
  },
  {
   "cell_type": "markdown",
   "metadata": {},
   "source": [
    "## Ingest pkl explanations and load to numpy array "
   ]
  },
  {
   "cell_type": "code",
   "execution_count": 3,
   "metadata": {},
   "outputs": [],
   "source": [
    "def ingest_explanations_into_array(\n",
    "    specobjids_array: np.ndarray,\n",
    "    wave: np.ndarray,\n",
    "    load_from_dir: str,\n",
    ") -> np.ndarray:\n",
    "    \"\"\"\n",
    "    Load LIME explanations from pickle files into a structured NumPy array.\n",
    "\n",
    "    For each given `specobjid`, this function loads the saved explanation,\n",
    "    processes it through a `TellMeWhy` instance to extract the explanation\n",
    "    weights and store them in a 2D NumPy array for batch analysis.\n",
    "\n",
    "    Parameters\n",
    "    ----------\n",
    "    specobjids_array : np.ndarray\n",
    "        Array of specobjids (unique object identifiers) corresponding to each explanation file.\n",
    "    wave : np.ndarray\n",
    "        Array representing the wavelength axis used when initializing `TellMeWhy`.\n",
    "    load_from_dir : str\n",
    "        Path to the directory where the explanation `.pkl` files are stored.\n",
    "\n",
    "    Returns\n",
    "    -------\n",
    "    np.ndarray\n",
    "        A 2D array of shape (n_objects, n_wavelengths) containing the explanation\n",
    "        weights for each object, where each row corresponds to one spectrum's\n",
    "        explanation.\n",
    "\n",
    "    Notes\n",
    "    -----\n",
    "    - Each pickle file must contain a tuple where the first element is the\n",
    "      explanation dictionary expected by `TellMeWhy`.\n",
    "    - Assumes that explanation files are named as `{specobjid}.pkl`.\n",
    "    \"\"\"\n",
    "    array_shape = (specobjids_array.shape[0], wave.shape[0])\n",
    "    weights_all = np.empty(array_shape, dtype=np.float32)\n",
    "\n",
    "    for i, specobjid in enumerate(specobjids_array):\n",
    "        with open(f\"{load_from_dir}/{specobjid}.pkl\", \"rb\") as file:\n",
    "            explanation, _, _ = pickle.load(file)\n",
    "            why = TellMeWhy(wave=wave, explanation=explanation)\n",
    "            weights_all[i, :] = why.get_heatmap()\n",
    "\n",
    "    return weights_all\n"
   ]
  },
  {
   "cell_type": "markdown",
   "metadata": {},
   "source": [
    "# Data ingestion"
   ]
  },
  {
   "cell_type": "code",
   "execution_count": 11,
   "metadata": {},
   "outputs": [],
   "source": [
    "bin_id = \"bin_03\"\n",
    "phd_dir = \"/home/elom/phd\"\n",
    "spectra_dir = f\"{phd_dir}/00_phd_code/spectra\"\n",
    "explanations_dir = f\"{phd_dir}/00_phd_code/explanations\"\n",
    "paper_figures_dir = f\"{phd_dir}/00_paper_explain-me-why/sections/figures/\""
   ]
  },
  {
   "cell_type": "code",
   "execution_count": 12,
   "metadata": {},
   "outputs": [],
   "source": [
    "meta_data_df = pd.read_csv(\n",
    "    f\"{spectra_dir}/0_01_z_0_5_4_0_snr_inf.csv.gz\",\n",
    "    index_col=\"specobjid\",\n",
    ")"
   ]
  },
  {
   "cell_type": "code",
   "execution_count": 13,
   "metadata": {},
   "outputs": [],
   "source": [
    "wave = np.load(f\"{spectra_dir}/wave_spectra_imputed.npy\")\n",
    "\n",
    "spectra = np.load(\n",
    "    f\"{spectra_dir}/spectra_imputed.npy\",\n",
    "    mmap_mode=\"r\"\n",
    ")\n",
    "\n",
    "bin_idx_id_map = np.load(\n",
    "    f\"{spectra_dir}/{bin_id}/{bin_id}_index_specobjid.npy\"\n",
    ")"
   ]
  },
  {
   "cell_type": "markdown",
   "metadata": {},
   "source": [
    "## MSE noRel 97"
   ]
  },
  {
   "cell_type": "code",
   "execution_count": 17,
   "metadata": {},
   "outputs": [],
   "source": [
    "score_name = \"mse_noRel97\"\n",
    "explanation_run_id = \"20250427151754_uniform_5000_scale\"\n",
    "\n",
    "anomalies_array = np.load(\n",
    "    f\"{spectra_dir}/{bin_id}/{score_name}/top_anomalies.npy\",\n",
    "    mmap_mode=\"r\"\n",
    ")\n",
    "\n",
    "anomalies_df = pd.read_csv(\n",
    "    f\"{spectra_dir}/{bin_id}/{score_name}/top_anomalies.csv.gz\",\n",
    "    index_col=\"specobjid\",\n",
    ")\n",
    "\n",
    "weights = ingest_explanations_into_array(\n",
    "    specobjids_array=anomalies_df.index.values,\n",
    "    wave=wave,\n",
    "    load_from_dir=f\"{explanations_dir}/{bin_id}/{score_name}/{explanation_run_id}\",\n",
    ")\n",
    "\n",
    "np.save(\n",
    "    f\"{explanations_dir}/{bin_id}/{score_name}/weights_{explanation_run_id}.npy\",\n",
    "    weights,\n",
    ")"
   ]
  },
  {
   "cell_type": "markdown",
   "metadata": {},
   "source": [
    "## MSE 250kms noRel100"
   ]
  },
  {
   "cell_type": "code",
   "execution_count": 16,
   "metadata": {},
   "outputs": [],
   "source": [
    "score_name = \"mse_filter_250kms_noRel100\"\n",
    "explanation_run_id = \"20250427094150_uniform_5000_scale\"\n",
    "\n",
    "anomalies_array = np.load(\n",
    "    f\"{spectra_dir}/{bin_id}/{score_name}/top_anomalies.npy\",\n",
    "    mmap_mode=\"r\"\n",
    ")\n",
    "\n",
    "anomalies_df = pd.read_csv(\n",
    "    f\"{spectra_dir}/{bin_id}/{score_name}/top_anomalies.csv.gz\",\n",
    "    index_col=\"specobjid\",\n",
    ")\n",
    "\n",
    "weights = ingest_explanations_into_array(\n",
    "    specobjids_array=anomalies_df.index.values,\n",
    "    wave=wave,\n",
    "    load_from_dir=f\"{explanations_dir}/{bin_id}/{score_name}/{explanation_run_id}\",\n",
    ")\n",
    "\n",
    "np.save(\n",
    "    f\"{explanations_dir}/{bin_id}/{score_name}/weights_{explanation_run_id}.npy\",\n",
    "    weights,\n",
    ")"
   ]
  },
  {
   "cell_type": "markdown",
   "metadata": {},
   "source": [
    "## "
   ]
  },
  {
   "cell_type": "markdown",
   "metadata": {},
   "source": [
    "## MSE 250kms noRel97"
   ]
  },
  {
   "cell_type": "code",
   "execution_count": 15,
   "metadata": {},
   "outputs": [],
   "source": [
    "score_name = \"mse_filter_250kms_noRel97\"\n",
    "explanation_run_id = \"20250427105355_uniform_5000_scale\"\n",
    "\n",
    "anomalies_array = np.load(\n",
    "    f\"{spectra_dir}/{bin_id}/{score_name}/top_anomalies.npy\",\n",
    "    mmap_mode=\"r\"\n",
    ")\n",
    "\n",
    "anomalies_df = pd.read_csv(\n",
    "    f\"{spectra_dir}/{bin_id}/{score_name}/top_anomalies.csv.gz\",\n",
    "    index_col=\"specobjid\",\n",
    ")\n",
    "\n",
    "weights = ingest_explanations_into_array(\n",
    "    specobjids_array=anomalies_df.index.values,\n",
    "    wave=wave,\n",
    "    load_from_dir=f\"{explanations_dir}/{bin_id}/{score_name}/{explanation_run_id}\",\n",
    ")\n",
    "\n",
    "np.save(\n",
    "    f\"{explanations_dir}/{bin_id}/{score_name}/weights_{explanation_run_id}.npy\",\n",
    "    weights,\n",
    ")"
   ]
  },
  {
   "cell_type": "code",
   "execution_count": null,
   "metadata": {},
   "outputs": [],
   "source": []
  }
 ],
 "metadata": {
  "kernelspec": {
   "display_name": "phd",
   "language": "python",
   "name": "python3"
  },
  "language_info": {
   "codemirror_mode": {
    "name": "ipython",
    "version": 3
   },
   "file_extension": ".py",
   "mimetype": "text/x-python",
   "name": "python",
   "nbconvert_exporter": "python",
   "pygments_lexer": "ipython3",
   "version": "3.12.3"
  },
  "orig_nbformat": 4
 },
 "nbformat": 4,
 "nbformat_minor": 2
}
