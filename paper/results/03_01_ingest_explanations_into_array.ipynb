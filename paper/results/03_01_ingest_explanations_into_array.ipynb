{
 "cells": [
  {
   "cell_type": "markdown",
   "metadata": {},
   "source": [
    "# Ingest explations into array"
   ]
  },
  {
   "cell_type": "code",
   "execution_count": null,
   "metadata": {},
   "outputs": [],
   "source": [
    "import os\n",
    "# Set environment variables to disable multithreading\n",
    "# as users will probably want to set the number of cores\n",
    "# to the max of their computer.\n",
    "os.environ[\"OMP_NUM_THREADS\"] = \"1\"\n",
    "os.environ[\"OPENBLAS_NUM_THREADS\"] = \"1\"\n",
    "os.environ[\"MKL_NUM_THREADS\"] = \"1\"\n",
    "os.environ[\"VECLIB_MAXIMUM_THREADS\"] = \"1\"\n",
    "os.environ[\"NUMEXPR_NUM_THREADS\"] = \"1\"\n",
    "\n",
    "os.environ[\"TF_CPP_MIN_LOG_LEVEL\"] = \"2\"\n"
   ]
  },
  {
   "cell_type": "code",
   "execution_count": 3,
   "metadata": {},
   "outputs": [],
   "source": [
    "import pickle\n",
    "\n",
    "import numpy as np\n",
    "import pandas as pd\n",
    "\n",
    "from astroExplain.spectra.explanation import TellMeWhy\n",
    "from anomaly.utils import specobjid_to_idx\n",
    "from autoencoders.ae import AutoEncoder\n",
    "from sdss.metadata import MetaData\n",
    "\n",
    "meta = MetaData()"
   ]
  },
  {
   "cell_type": "markdown",
   "metadata": {},
   "source": [
    "# Custom functions"
   ]
  },
  {
   "cell_type": "code",
   "execution_count": null,
   "metadata": {},
   "outputs": [],
   "source": []
  },
  {
   "cell_type": "markdown",
   "metadata": {},
   "source": [
    "## Ingest pkl explanations and load to numpy array "
   ]
  },
  {
   "cell_type": "code",
   "execution_count": 4,
   "metadata": {},
   "outputs": [],
   "source": [
    "def ingest_explanations_into_array(\n",
    "    specobjids_array: np.array,\n",
    "    wave: np.array,\n",
    "    load_from_dir: str,\n",
    "):\n",
    "    \"\"\"\n",
    "    Ingest different explanations from LimeSpectraExplainer\n",
    "    (in pkl) to numpy array for further analysis.\n",
    "    \"\"\"\n",
    "    \n",
    "    array_shape = (specobjids_array.shape[0], wave.shape[0])\n",
    "    weights_all = np.empty(array_shape)\n",
    "\n",
    "    for i, specobjid in enumerate(specobjids_array):\n",
    "\n",
    "        with open(\n",
    "            f\"{load_from_dir}/{specobjid}.pkl\", \"rb\") as file:\n",
    "\n",
    "            explanation = pickle.load(file)\n",
    "            why = TellMeWhy(wave=wave, explanation=explanation)\n",
    "\n",
    "            weights_all[i, :] = why.get_heatmap()\n",
    "\n",
    "    return weights_all"
   ]
  },
  {
   "cell_type": "markdown",
   "metadata": {},
   "source": [
    "# Data ingestion"
   ]
  },
  {
   "cell_type": "code",
   "execution_count": 6,
   "metadata": {},
   "outputs": [],
   "source": [
    "data_dir = \"/home/elom/spectra\"\n",
    "bin_id = \"bin_03\"\n",
    "explanations_dir = f\"{data_dir}/{bin_id}/explanation\"\n",
    "paper_figures_dir = \"/home/elom/phd/00_paper_explain-me-why/sections/figures/\""
   ]
  },
  {
   "cell_type": "code",
   "execution_count": 7,
   "metadata": {},
   "outputs": [],
   "source": [
    "meta_data_df = pd.read_csv(\n",
    "    f\"{data_dir}/0_01_z_0_5_4_0_snr_inf.csv.gz\",\n",
    "    index_col=\"specobjid\",\n",
    ")"
   ]
  },
  {
   "cell_type": "code",
   "execution_count": 8,
   "metadata": {},
   "outputs": [],
   "source": [
    "wave = np.load(f\"{data_dir}/wave_spectra_imputed.npy\")\n",
    "\n",
    "spectra = np.load(\n",
    "    f\"{data_dir}/spectra_imputed.npy\",\n",
    "    mmap_mode=\"r\"\n",
    ")\n",
    "\n",
    "idx_id = np.load(\n",
    "    f\"{data_dir}/{bin_id}/{bin_id}_index_specobjid.npy\"\n",
    ")"
   ]
  },
  {
   "cell_type": "markdown",
   "metadata": {},
   "source": [
    "## Anomalies"
   ]
  },
  {
   "cell_type": "markdown",
   "metadata": {},
   "source": [
    "# MSE"
   ]
  },
  {
   "cell_type": "markdown",
   "metadata": {},
   "source": [
    "## "
   ]
  },
  {
   "cell_type": "markdown",
   "metadata": {},
   "source": [
    "## MSE 250kms noRel97"
   ]
  },
  {
   "cell_type": "code",
   "execution_count": 15,
   "metadata": {},
   "outputs": [
    {
     "ename": "AttributeError",
     "evalue": "'tuple' object has no attribute 'image'",
     "output_type": "error",
     "traceback": [
      "\u001b[31m---------------------------------------------------------------------------\u001b[39m",
      "\u001b[31mAttributeError\u001b[39m                            Traceback (most recent call last)",
      "\u001b[36mCell\u001b[39m\u001b[36m \u001b[39m\u001b[32mIn[15]\u001b[39m\u001b[32m, line 7\u001b[39m\n\u001b[32m      1\u001b[39m \u001b[38;5;66;03m# 0250426234431_uniform_5000_scale\u001b[39;00m\n\u001b[32m      2\u001b[39m \u001b[38;5;66;03m# /home/elom/phd/00_phd_code/explanations/bin_03/mse_filter_250kms_noRel97\u001b[39;00m\n\u001b[32m      3\u001b[39m anomalies_df = pd.read_csv(\n\u001b[32m      4\u001b[39m     \u001b[33mf\u001b[39m\u001b[33m\"\u001b[39m\u001b[38;5;132;01m{\u001b[39;00mdata_dir\u001b[38;5;132;01m}\u001b[39;00m\u001b[33m/\u001b[39m\u001b[38;5;132;01m{\u001b[39;00mbin_id\u001b[38;5;132;01m}\u001b[39;00m\u001b[33m/mse_filter_250kms_noRel97/top_anomalies.csv.gz\u001b[39m\u001b[33m\"\u001b[39m,\n\u001b[32m      5\u001b[39m     index_col=\u001b[33m\"\u001b[39m\u001b[33mspecobjid\u001b[39m\u001b[33m\"\u001b[39m,\n\u001b[32m      6\u001b[39m )\n\u001b[32m----> \u001b[39m\u001b[32m7\u001b[39m weights = \u001b[43mingest_explanations_into_array\u001b[49m\u001b[43m(\u001b[49m\n\u001b[32m      8\u001b[39m \u001b[43m    \u001b[49m\u001b[43mspecobjids_array\u001b[49m\u001b[43m=\u001b[49m\u001b[43manomalies_df\u001b[49m\u001b[43m.\u001b[49m\u001b[43mindex\u001b[49m\u001b[43m.\u001b[49m\u001b[43mvalues\u001b[49m\u001b[43m,\u001b[49m\n\u001b[32m      9\u001b[39m \u001b[43m    \u001b[49m\u001b[43mwave\u001b[49m\u001b[43m=\u001b[49m\u001b[43mwave\u001b[49m\u001b[43m,\u001b[49m\n\u001b[32m     10\u001b[39m \u001b[43m    \u001b[49m\u001b[43mload_from_dir\u001b[49m\u001b[43m=\u001b[49m\u001b[33;43m\"\u001b[39;49m\u001b[33;43m/home/elom/phd/00_phd_code/explanations/bin_03/mse_filter_250kms_noRel97/20250427105355_uniform_5000_scale\u001b[39;49m\u001b[33;43m\"\u001b[39;49m\u001b[43m,\u001b[49m\n\u001b[32m     11\u001b[39m \u001b[43m)\u001b[49m\n\u001b[32m     12\u001b[39m weights.shape\n",
      "\u001b[36mCell\u001b[39m\u001b[36m \u001b[39m\u001b[32mIn[4]\u001b[39m\u001b[32m, line 20\u001b[39m, in \u001b[36mingest_explanations_into_array\u001b[39m\u001b[34m(specobjids_array, wave, load_from_dir)\u001b[39m\n\u001b[32m     16\u001b[39m     \u001b[38;5;28;01mwith\u001b[39;00m \u001b[38;5;28mopen\u001b[39m(\n\u001b[32m     17\u001b[39m         \u001b[33mf\u001b[39m\u001b[33m\"\u001b[39m\u001b[38;5;132;01m{\u001b[39;00mload_from_dir\u001b[38;5;132;01m}\u001b[39;00m\u001b[33m/\u001b[39m\u001b[38;5;132;01m{\u001b[39;00mspecobjid\u001b[38;5;132;01m}\u001b[39;00m\u001b[33m.pkl\u001b[39m\u001b[33m\"\u001b[39m, \u001b[33m\"\u001b[39m\u001b[33mrb\u001b[39m\u001b[33m\"\u001b[39m) \u001b[38;5;28;01mas\u001b[39;00m file:\n\u001b[32m     19\u001b[39m         explanation = pickle.load(file)\n\u001b[32m---> \u001b[39m\u001b[32m20\u001b[39m         why = \u001b[43mTellMeWhy\u001b[49m\u001b[43m(\u001b[49m\u001b[43mwave\u001b[49m\u001b[43m=\u001b[49m\u001b[43mwave\u001b[49m\u001b[43m,\u001b[49m\u001b[43m \u001b[49m\u001b[43mexplanation\u001b[49m\u001b[43m=\u001b[49m\u001b[43mexplanation\u001b[49m\u001b[43m)\u001b[49m\n\u001b[32m     22\u001b[39m         weights_all[i, :] = why.get_heatmap()\n\u001b[32m     24\u001b[39m \u001b[38;5;28;01mreturn\u001b[39;00m weights_all\n",
      "\u001b[36mFile \u001b[39m\u001b[32m~/gdrive/career/portfolio/phd/00_phd_code/xai-astronomy/src/astroExplain/spectra/explanation.py:23\u001b[39m, in \u001b[36mTellMeWhy.__init__\u001b[39m\u001b[34m(self, explanation, wave)\u001b[39m\n\u001b[32m     16\u001b[39m \u001b[38;5;28;01mdef\u001b[39;00m\u001b[38;5;250m \u001b[39m\u001b[34m__init__\u001b[39m(\u001b[38;5;28mself\u001b[39m, explanation: ImageExplanation, wave: np.array):\n\u001b[32m     17\u001b[39m \u001b[38;5;250m    \u001b[39m\u001b[33;03m\"\"\"\u001b[39;00m\n\u001b[32m     18\u001b[39m \u001b[33;03m    INPUT\u001b[39;00m\n\u001b[32m     19\u001b[39m \u001b[33;03m    explanation: an explanation generated by lime_image explainer.\u001b[39;00m\n\u001b[32m     20\u001b[39m \u001b[33;03m    wave: array with the wavelengts associated to the spectrum\u001b[39;00m\n\u001b[32m     21\u001b[39m \u001b[33;03m    \"\"\"\u001b[39;00m\n\u001b[32m---> \u001b[39m\u001b[32m23\u001b[39m     \u001b[38;5;28mself\u001b[39m.galaxy = \u001b[43mexplanation\u001b[49m\u001b[43m.\u001b[49m\u001b[43mimage\u001b[49m[\u001b[32m0\u001b[39m, :, \u001b[32m0\u001b[39m]\n\u001b[32m     24\u001b[39m     \u001b[38;5;28mself\u001b[39m.segments = explanation.segments[\u001b[32m0\u001b[39m, :]\n\u001b[32m     25\u001b[39m     \u001b[38;5;28mself\u001b[39m.wave = wave\n",
      "\u001b[31mAttributeError\u001b[39m: 'tuple' object has no attribute 'image'"
     ]
    }
   ],
   "source": [
    "# 0250426234431_uniform_5000_scale\n",
    "# /home/elom/phd/00_phd_code/explanations/bin_03/mse_filter_250kms_noRel97\n",
    "anomalies_df = pd.read_csv(\n",
    "    f\"{data_dir}/{bin_id}/mse_filter_250kms_noRel97/top_anomalies.csv.gz\",\n",
    "    index_col=\"specobjid\",\n",
    ")\n",
    "weights = ingest_explanations_into_array(\n",
    "    specobjids_array=anomalies_df.index.values,\n",
    "    wave=wave,\n",
    "    load_from_dir=\"/home/elom/phd/00_phd_code/explanations/bin_03/mse_filter_250kms_noRel97/20250427105355_uniform_5000_scale\",\n",
    ")\n",
    "weights.shape"
   ]
  },
  {
   "cell_type": "code",
   "execution_count": null,
   "metadata": {},
   "outputs": [],
   "source": []
  }
 ],
 "metadata": {
  "kernelspec": {
   "display_name": "phd",
   "language": "python",
   "name": "python3"
  },
  "language_info": {
   "codemirror_mode": {
    "name": "ipython",
    "version": 3
   },
   "file_extension": ".py",
   "mimetype": "text/x-python",
   "name": "python",
   "nbconvert_exporter": "python",
   "pygments_lexer": "ipython3",
   "version": "3.12.3"
  },
  "orig_nbformat": 4
 },
 "nbformat": 4,
 "nbformat_minor": 2
}
