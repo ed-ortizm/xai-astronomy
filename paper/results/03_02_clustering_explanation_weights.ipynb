{
 "cells": [
  {
   "cell_type": "markdown",
   "metadata": {},
   "source": [
    "# General Trends in Anomalies"
   ]
  },
  {
   "cell_type": "code",
   "execution_count": 1,
   "metadata": {},
   "outputs": [],
   "source": [
    "import os\n",
    "# Set environment variables to disable multithreading\n",
    "# as users will probably want to set the number of cores\n",
    "# to the max of their computer.\n",
    "os.environ[\"OMP_NUM_THREADS\"] = \"1\"\n",
    "os.environ[\"OPENBLAS_NUM_THREADS\"] = \"1\"\n",
    "os.environ[\"MKL_NUM_THREADS\"] = \"1\"\n",
    "os.environ[\"VECLIB_MAXIMUM_THREADS\"] = \"1\"\n",
    "os.environ[\"NUMEXPR_NUM_THREADS\"] = \"1\"\n",
    "\n",
    "os.environ[\"TF_CPP_MIN_LOG_LEVEL\"] = \"2\"\n"
   ]
  },
  {
   "cell_type": "code",
   "execution_count": 2,
   "metadata": {},
   "outputs": [],
   "source": [
    "import pickle\n",
    "\n",
    "import matplotlib.pyplot as plt\n",
    "from mpl_toolkits.axes_grid1.inset_locator import inset_axes\n",
    "import matplotlib.image as mpimg\n",
    "import numpy as np\n",
    "import pandas as pd\n",
    "\n",
    "from anomaly.constants import GALAXY_LINES\n",
    "from anomaly.utils import specobjid_to_idx\n",
    "from astroExplain.spectra.notebook import (\n",
    "    interpret,\n",
    "    explain_reconstruction_score,\n",
    ")\n",
    "from autoencoders.ae import AutoEncoder\n",
    "from sdss.metadata import MetaData\n",
    "from sdss.utils.managefiles import FileDirectory\n",
    "\n",
    "meta = MetaData()"
   ]
  },
  {
   "cell_type": "code",
   "execution_count": 3,
   "metadata": {},
   "outputs": [],
   "source": [
    "def explanation_name(lime_config: dict, fudge_config: dict) -> str:\n",
    "\n",
    "    segmentation = lime_config[\"segmentation\"]\n",
    "    n_segments = lime_config[\"number_segments\"]\n",
    "    perturbation = fudge_config[\"kind_of_fudge\"]\n",
    "\n",
    "    explanation_str = f\"{segmentation}_{n_segments}_{perturbation}\"\n",
    "\n",
    "    if perturbation == \"scale\":\n",
    "\n",
    "        scale_factor = fudge_config[\"scale_factor\"]\n",
    "        explanation_str = f\"{explanation_str}_{scale_factor}\"\n",
    "\n",
    "    return explanation_str"
   ]
  },
  {
   "cell_type": "markdown",
   "metadata": {},
   "source": [
    "# Data ingestion"
   ]
  },
  {
   "cell_type": "code",
   "execution_count": 4,
   "metadata": {},
   "outputs": [],
   "source": [
    "data_dir = \"/home/elom/spectra\"\n",
    "model_dir = \"/home/elom/models\"\n",
    "bin_id = \"bin_03\"\n",
    "explanations_dir = f\"{model_dir}/{bin_id}/explanation\"\n",
    "paper_figures_dir = \"/home/elom/phd/00_paper_explain-me-why/sections/figures/\""
   ]
  },
  {
   "cell_type": "code",
   "execution_count": 5,
   "metadata": {},
   "outputs": [],
   "source": [
    "meta_data_df = pd.read_csv(\n",
    "    f\"{data_dir}/0_01_z_0_5_4_0_snr_inf.csv.gz\",\n",
    "    index_col=\"specobjid\",\n",
    ")"
   ]
  },
  {
   "cell_type": "code",
   "execution_count": 6,
   "metadata": {},
   "outputs": [],
   "source": [
    "wave = np.load(f\"{data_dir}/wave_spectra_imputed.npy\")\n",
    "\n",
    "spectra = np.load(\n",
    "    f\"{data_dir}/spectra_imputed.npy\",\n",
    "    mmap_mode=\"r\"\n",
    ")\n",
    "\n",
    "idx_id = np.load(\n",
    "    f\"{data_dir}/{bin_id}/{bin_id}_index_specobjid.npy\"\n",
    ")"
   ]
  },
  {
   "cell_type": "markdown",
   "metadata": {},
   "source": [
    "## Load model"
   ]
  },
  {
   "cell_type": "code",
   "execution_count": 7,
   "metadata": {},
   "outputs": [],
   "source": [
    "ae_model = AutoEncoder(\n",
    "    reload=True,\n",
    "    reload_from=f\"{model_dir}/{bin_id}\",\n",
    ")"
   ]
  },
  {
   "cell_type": "markdown",
   "metadata": {},
   "source": [
    "# MSE clustering"
   ]
  },
  {
   "cell_type": "code",
   "execution_count": 1,
   "metadata": {},
   "outputs": [],
   "source": [
    "from sklearn.cluster import KMeans"
   ]
  },
  {
   "cell_type": "code",
   "execution_count": null,
   "metadata": {},
   "outputs": [],
   "source": [
    "# Create a list to store the evaluation metric values\n",
    "inertias = []\n",
    "n_clusters = range(2, 12)\n",
    "\n",
    "# Fit the k-means model\n",
    "for n in n_clusters:\n",
    "    kmeans = KMeans(n_clusters=n, random_state=0)\n",
    "    kmeans.fit(explanation_weights)\n",
    "    inertias.append(kmeans.inertia_)\n",
    "    print(f\"n: {n}, inertia: {kmeans.inertia_}\", end=\"\\r\")"
   ]
  },
  {
   "cell_type": "markdown",
   "metadata": {},
   "source": [
    "## "
   ]
  }
 ],
 "metadata": {
  "kernelspec": {
   "display_name": "phd",
   "language": "python",
   "name": "python3"
  },
  "language_info": {
   "codemirror_mode": {
    "name": "ipython",
    "version": 3
   },
   "file_extension": ".py",
   "mimetype": "text/x-python",
   "name": "python",
   "nbconvert_exporter": "python",
   "pygments_lexer": "ipython3",
   "version": "3.12.3"
  },
  "orig_nbformat": 4
 },
 "nbformat": 4,
 "nbformat_minor": 2
}
