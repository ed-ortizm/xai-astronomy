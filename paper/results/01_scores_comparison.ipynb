{
 "cells": [
  {
   "cell_type": "code",
   "execution_count": 1,
   "metadata": {},
   "outputs": [],
   "source": [
    "import matplotlib.pyplot as plt\n",
    "import numpy as np\n",
    "import pandas as pd\n",
    "\n",
    "from anomaly.constants import GALAXY_LINES\n",
    "from anomaly.utils import specobjid_to_idx\n",
    "from sdss.metadata import MetaData\n",
    "from sdss.utils.managefiles import FileDirectory\n",
    "\n",
    "meta = MetaData()\n",
    "# %matplotlib inline"
   ]
  },
  {
   "cell_type": "markdown",
   "metadata": {},
   "source": [
    "# Directories"
   ]
  },
  {
   "cell_type": "code",
   "execution_count": 3,
   "metadata": {},
   "outputs": [],
   "source": [
    "vae_architecture = '256_128_64/latent_12'\n",
    "\n",
    "project_dir = '/home/elom/onedrive/phd/spectra/0_01_z_0_5_4_0_snr_inf'\n",
    "bin_id = 'bin_03'\n",
    "explanations_dir = (\n",
    "    f'{project_dir}/{bin_id}/explanation/{vae_architecture}'\n",
    ")\n",
    "\n",
    "scores_list = [\n",
    "    'mse_filter_250kms_noRel100',\n",
    "    'mse_filter_250kms_noRel97',\n",
    "    'mse_filter_250kms_rel100',\n",
    "    'mse_filter_250kms_rel97',\n",
    "    'mse_noRel100',\n",
    "    'mse_noRel97',\n",
    "    'mse_rel100',\n",
    "    'mse_rel97'\n",
    "]"
   ]
  },
  {
   "cell_type": "markdown",
   "metadata": {},
   "source": [
    "# Load data"
   ]
  },
  {
   "cell_type": "code",
   "execution_count": 4,
   "metadata": {},
   "outputs": [],
   "source": [
    "# load data\n",
    "wave = np.load(f\"{project_dir}/wave_spectra_imputed.npy\")\n",
    "\n",
    "meta_data_df = pd.read_csv(\n",
    "    f\"{project_dir}/drop_0_01_z_0_5_4_0_snr_inf.csv.gz\",\n",
    "    index_col=\"specobjid\",\n",
    ")\n",
    "\n",
    "spectra = np.load(\n",
    "    f\"{project_dir}/spectra_imputed.npy\",\n",
    "    mmap_mode=\"r\"\n",
    ")\n",
    "\n",
    "idx_id = np.load(\n",
    "    f\"{project_dir}/{bin_id}/{bin_id}_index_specobjid.npy\"\n",
    ")\n",
    "\n",
    "# load MSE score of most normal galaxies, AKA, best reconstructed ones\n",
    "normal_mse_df = pd.read_csv(\n",
    "    f\"{explanations_dir}/mse_noRel100/top_normal.csv.gz\",\n",
    "    index_col=\"specobjid\",\n",
    ")\n",
    "\n",
    "anomalous_mse_df = pd.read_csv(\n",
    "    f\"{explanations_dir}/mse_noRel100/top_anomalies.csv.gz\",\n",
    "    index_col=\"specobjid\",\n",
    ")"
   ]
  },
  {
   "cell_type": "code",
   "execution_count": 6,
   "metadata": {},
   "outputs": [],
   "source": [
    "anomalies_scores_df_list = []\n",
    "for score in scores_list:\n",
    "\n",
    "    fpath = f\"{explanations_dir}/{score}/top_anomalies.csv.gz\"\n",
    "\n",
    "    _df = pd.read_csv(fpath)\n",
    "    _df[\"score\"] = score\n",
    "    anomalies_scores_df_list.append(_df)\n",
    "\n",
    "anomalies_scores_df = pd.concat(\n",
    "    anomalies_scores_df_list,\n",
    "    ignore_index=True\n",
    "    )"
   ]
  },
  {
   "cell_type": "code",
   "execution_count": 7,
   "metadata": {},
   "outputs": [
    {
     "data": {
      "text/plain": [
       "score\n",
       "mse_filter_250kms_noRel100    10000\n",
       "mse_filter_250kms_noRel97     10000\n",
       "mse_filter_250kms_rel100      10000\n",
       "mse_filter_250kms_rel97       10000\n",
       "mse_noRel100                  10000\n",
       "mse_noRel97                   10000\n",
       "mse_rel100                    10000\n",
       "mse_rel97                     10000\n",
       "Name: count, dtype: int64"
      ]
     },
     "execution_count": 7,
     "metadata": {},
     "output_type": "execute_result"
    }
   ],
   "source": [
    "anomalies_scores_df.score.value_counts()"
   ]
  },
  {
   "cell_type": "code",
   "execution_count": null,
   "metadata": {},
   "outputs": [],
   "source": []
  }
 ],
 "metadata": {
  "kernelspec": {
   "display_name": "phd",
   "language": "python",
   "name": "python3"
  },
  "language_info": {
   "codemirror_mode": {
    "name": "ipython",
    "version": 3
   },
   "file_extension": ".py",
   "mimetype": "text/x-python",
   "name": "python",
   "nbconvert_exporter": "python",
   "pygments_lexer": "ipython3",
   "version": "3.12.3"
  },
  "orig_nbformat": 4
 },
 "nbformat": 4,
 "nbformat_minor": 2
}
