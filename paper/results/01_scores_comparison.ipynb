{
 "cells": [
  {
   "cell_type": "code",
   "execution_count": 1,
   "metadata": {},
   "outputs": [],
   "source": [
    "import os\n",
    "# Set environment variables to disable multithreading\n",
    "# as users will probably want to set the number of cores\n",
    "# to the max of their computer.\n",
    "os.environ[\"OMP_NUM_THREADS\"] = \"1\"\n",
    "os.environ[\"OPENBLAS_NUM_THREADS\"] = \"1\"\n",
    "os.environ[\"MKL_NUM_THREADS\"] = \"1\"\n",
    "os.environ[\"VECLIB_MAXIMUM_THREADS\"] = \"1\"\n",
    "os.environ[\"NUMEXPR_NUM_THREADS\"] = \"1\"\n",
    "\n",
    "os.environ[\"TF_CPP_MIN_LOG_LEVEL\"] = \"2\""
   ]
  },
  {
   "cell_type": "code",
   "execution_count": 2,
   "metadata": {},
   "outputs": [],
   "source": [
    "import matplotlib.pyplot as plt\n",
    "import numpy as np\n",
    "import pandas as pd\n",
    "\n",
    "from autoencoders.ae import AutoEncoder\n",
    "from anomaly.constants import GALAXY_LINES\n",
    "from anomaly.utils import specobjid_to_idx\n",
    "from sdss.metadata import MetaData\n",
    "from sdss.utils.managefiles import FileDirectory\n",
    "\n",
    "meta = MetaData()\n",
    "# %matplotlib inline"
   ]
  },
  {
   "cell_type": "markdown",
   "metadata": {},
   "source": [
    "# Data ingestion"
   ]
  },
  {
   "cell_type": "code",
   "execution_count": 3,
   "metadata": {},
   "outputs": [],
   "source": [
    "data_dir = \"/home/elom/spectra\"\n",
    "model_dir = \"/home/elom/models\"\n",
    "bin_id = \"bin_03\"\n",
    "explanations_dir = f\"{model_dir}/{bin_id}/explanation\"\n",
    "paper_figures_dir = \"/home/elom/phd/00_paper_explain-me-why/sections/figures/\""
   ]
  },
  {
   "cell_type": "code",
   "execution_count": 4,
   "metadata": {},
   "outputs": [],
   "source": [
    "meta_data_df = pd.read_csv(\n",
    "    f\"{data_dir}/0_01_z_0_5_4_0_snr_inf.csv.gz\",\n",
    "    index_col=\"specobjid\",\n",
    ")"
   ]
  },
  {
   "cell_type": "code",
   "execution_count": 5,
   "metadata": {},
   "outputs": [],
   "source": [
    "wave = np.load(f\"{data_dir}/wave_spectra_imputed.npy\")\n",
    "\n",
    "spectra = np.load(\n",
    "    f\"{data_dir}/spectra_imputed.npy\",\n",
    "    mmap_mode=\"r\"\n",
    ")\n",
    "\n",
    "idx_id = np.load(\n",
    "    f\"{data_dir}/{bin_id}/{bin_id}_index_specobjid.npy\"\n",
    ")"
   ]
  },
  {
   "cell_type": "markdown",
   "metadata": {},
   "source": [
    "# Load model"
   ]
  },
  {
   "cell_type": "code",
   "execution_count": 6,
   "metadata": {},
   "outputs": [],
   "source": [
    "ae_model = AutoEncoder(\n",
    "    reload=True,\n",
    "    reload_from=f\"{model_dir}/{bin_id}\",\n",
    ")"
   ]
  },
  {
   "cell_type": "markdown",
   "metadata": {},
   "source": [
    "# Overview of anomalies from MSE"
   ]
  },
  {
   "cell_type": "code",
   "execution_count": null,
   "metadata": {},
   "outputs": [],
   "source": [
    "mse_anomaly_specid_dict = {\n",
    "    'strong_emission':3240467000396376064,\n",
    "    'artifact': 637325355518027776\n",
    "}"
   ]
  },
  {
   "cell_type": "code",
   "execution_count": null,
   "metadata": {},
   "outputs": [],
   "source": [
    "mse_97_anomaly_specid_dict = {\n",
    "    'blue': 531492683672217600,\n",
    "    'star': 1780176998165932032\n",
    "}"
   ]
  },
  {
   "cell_type": "code",
   "execution_count": 8,
   "metadata": {},
   "outputs": [],
   "source": [
    "mse_filter_anomaly_specid_dict = {\n",
    "    'broad': 1924292192684238848,\n",
    "    'artifact': 407686575611209728\n",
    "}"
   ]
  },
  {
   "cell_type": "code",
   "execution_count": 9,
   "metadata": {},
   "outputs": [],
   "source": [
    "mse_filter_97_anomaly_specid_dict = {\n",
    "    'bumpy': 2501881598136313856,\n",
    "    'halpha_bump': 2664004586678806528\n",
    "}"
   ]
  },
  {
   "cell_type": "code",
   "execution_count": null,
   "metadata": {},
   "outputs": [],
   "source": []
  },
  {
   "cell_type": "code",
   "execution_count": null,
   "metadata": {},
   "outputs": [],
   "source": [
    "scores_list = [\n",
    "    'mse_filter_250kms_noRel100',\n",
    "    'mse_filter_250kms_noRel97',\n",
    "    'mse_filter_250kms_rel100',\n",
    "    'mse_filter_250kms_rel97',\n",
    "    'mse_noRel100',\n",
    "    'mse_noRel97',\n",
    "    'mse_rel100',\n",
    "    'mse_rel97'\n",
    "]"
   ]
  },
  {
   "cell_type": "code",
   "execution_count": null,
   "metadata": {},
   "outputs": [],
   "source": []
  },
  {
   "cell_type": "code",
   "execution_count": null,
   "metadata": {},
   "outputs": [],
   "source": []
  },
  {
   "cell_type": "code",
   "execution_count": null,
   "metadata": {},
   "outputs": [],
   "source": []
  },
  {
   "cell_type": "markdown",
   "metadata": {},
   "source": [
    "# Ignore"
   ]
  },
  {
   "cell_type": "markdown",
   "metadata": {},
   "source": [
    "# Directories"
   ]
  },
  {
   "cell_type": "code",
   "execution_count": 3,
   "metadata": {},
   "outputs": [],
   "source": [
    "vae_architecture = '256_128_64/latent_12'\n",
    "\n",
    "project_dir = '/home/elom/onedrive/phd/spectra/0_01_z_0_5_4_0_snr_inf'\n",
    "bin_id = 'bin_03'\n",
    "explanations_dir = (\n",
    "    f'{project_dir}/{bin_id}/explanation/{vae_architecture}'\n",
    ")\n",
    "\n",
    "scores_list = [\n",
    "    'mse_filter_250kms_noRel100',\n",
    "    'mse_filter_250kms_noRel97',\n",
    "    'mse_filter_250kms_rel100',\n",
    "    'mse_filter_250kms_rel97',\n",
    "    'mse_noRel100',\n",
    "    'mse_noRel97',\n",
    "    'mse_rel100',\n",
    "    'mse_rel97'\n",
    "]"
   ]
  },
  {
   "cell_type": "markdown",
   "metadata": {},
   "source": [
    "# Load data"
   ]
  },
  {
   "cell_type": "code",
   "execution_count": 4,
   "metadata": {},
   "outputs": [],
   "source": [
    "# load data\n",
    "wave = np.load(f\"{project_dir}/wave_spectra_imputed.npy\")\n",
    "\n",
    "meta_data_df = pd.read_csv(\n",
    "    f\"{project_dir}/drop_0_01_z_0_5_4_0_snr_inf.csv.gz\",\n",
    "    index_col=\"specobjid\",\n",
    ")\n",
    "\n",
    "spectra = np.load(\n",
    "    f\"{project_dir}/spectra_imputed.npy\",\n",
    "    mmap_mode=\"r\"\n",
    ")\n",
    "\n",
    "idx_id = np.load(\n",
    "    f\"{project_dir}/{bin_id}/{bin_id}_index_specobjid.npy\"\n",
    ")\n",
    "\n",
    "# load MSE score of most normal galaxies, AKA, best reconstructed ones\n",
    "normal_mse_df = pd.read_csv(\n",
    "    f\"{explanations_dir}/mse_noRel100/top_normal.csv.gz\",\n",
    "    index_col=\"specobjid\",\n",
    ")\n",
    "\n",
    "anomalous_mse_df = pd.read_csv(\n",
    "    f\"{explanations_dir}/mse_noRel100/top_anomalies.csv.gz\",\n",
    "    index_col=\"specobjid\",\n",
    ")"
   ]
  },
  {
   "cell_type": "code",
   "execution_count": 6,
   "metadata": {},
   "outputs": [],
   "source": [
    "anomalies_scores_df_list = []\n",
    "for score in scores_list:\n",
    "\n",
    "    fpath = f\"{explanations_dir}/{score}/top_anomalies.csv.gz\"\n",
    "\n",
    "    _df = pd.read_csv(fpath)\n",
    "    _df[\"score\"] = score\n",
    "    anomalies_scores_df_list.append(_df)\n",
    "\n",
    "anomalies_scores_df = pd.concat(\n",
    "    anomalies_scores_df_list,\n",
    "    ignore_index=True\n",
    "    )"
   ]
  },
  {
   "cell_type": "code",
   "execution_count": 7,
   "metadata": {},
   "outputs": [
    {
     "data": {
      "text/plain": [
       "score\n",
       "mse_filter_250kms_noRel100    10000\n",
       "mse_filter_250kms_noRel97     10000\n",
       "mse_filter_250kms_rel100      10000\n",
       "mse_filter_250kms_rel97       10000\n",
       "mse_noRel100                  10000\n",
       "mse_noRel97                   10000\n",
       "mse_rel100                    10000\n",
       "mse_rel97                     10000\n",
       "Name: count, dtype: int64"
      ]
     },
     "execution_count": 7,
     "metadata": {},
     "output_type": "execute_result"
    }
   ],
   "source": [
    "anomalies_scores_df.score.value_counts()"
   ]
  },
  {
   "cell_type": "markdown",
   "metadata": {},
   "source": [
    "# mederic"
   ]
  },
  {
   "cell_type": "code",
   "execution_count": 3,
   "metadata": {},
   "outputs": [],
   "source": [
    "data_dir = \"/home/elom/spectra\"\n",
    "model_dir = \"/home/elom/models\"\n",
    "bin_id = \"bin_03\"\n",
    "explanations_dir = f\"{model_dir}/{bin_id}/explanation\"\n",
    "paper_figures_dir = \"/home/elom/phd/00_paper_explain-me-why/sections/figures/\"\n",
    "meta_data_df = pd.read_csv(\n",
    "    f\"{data_dir}/0_01_z_0_5_4_0_snr_inf.csv.gz\",\n",
    "    index_col=\"specobjid\",\n",
    ")\n",
    "wave = np.load(f\"{data_dir}/wave_spectra_imputed.npy\")\n",
    "\n",
    "spectra = np.load(\n",
    "    f\"{data_dir}/spectra_imputed.npy\",\n",
    "    mmap_mode=\"r\"\n",
    ")\n",
    "\n",
    "idx_id = np.load(\n",
    "    f\"{data_dir}/{bin_id}/{bin_id}_index_specobjid.npy\"\n",
    ")"
   ]
  },
  {
   "cell_type": "code",
   "execution_count": 4,
   "metadata": {},
   "outputs": [
    {
     "data": {
      "text/plain": [
       "mjd                   53149\n",
       "plate                  1581\n",
       "fiberid                 470\n",
       "run2d                    26\n",
       "ra                235.10316\n",
       "dec               32.865899\n",
       "z                  0.053784\n",
       "zErr               0.000019\n",
       "zWarning                  0\n",
       "class                GALAXY\n",
       "subClass                NaN\n",
       "z_noqso                   0\n",
       "zErr_noqso                0\n",
       "zWarning_noqso            0\n",
       "targetType          SCIENCE\n",
       "programname          legacy\n",
       "instrument             SDSS\n",
       "snMedian            21.8992\n",
       "ABSSB             undefined\n",
       "BROAD             undefined\n",
       "ebv                0.028206\n",
       "Name: 1780176998165932032, dtype: object"
      ]
     },
     "execution_count": 4,
     "metadata": {},
     "output_type": "execute_result"
    }
   ],
   "source": [
    "specobjid = 1780176998165932032\n",
    "meta_data_df.loc[specobjid]"
   ]
  },
  {
   "cell_type": "code",
   "execution_count": null,
   "metadata": {},
   "outputs": [],
   "source": []
  }
 ],
 "metadata": {
  "kernelspec": {
   "display_name": "phd",
   "language": "python",
   "name": "python3"
  },
  "language_info": {
   "codemirror_mode": {
    "name": "ipython",
    "version": 3
   },
   "file_extension": ".py",
   "mimetype": "text/x-python",
   "name": "python",
   "nbconvert_exporter": "python",
   "pygments_lexer": "ipython3",
   "version": "3.12.3"
  },
  "orig_nbformat": 4
 },
 "nbformat": 4,
 "nbformat_minor": 2
}
