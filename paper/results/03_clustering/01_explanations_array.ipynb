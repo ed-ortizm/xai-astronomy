{
 "cells": [
  {
   "cell_type": "markdown",
   "metadata": {},
   "source": [
    "# Ingest explations into array"
   ]
  },
  {
   "cell_type": "code",
   "execution_count": 1,
   "metadata": {},
   "outputs": [],
   "source": [
    "import pickle\n",
    "\n",
    "import matplotlib.pyplot as plt\n",
    "import numpy as np\n",
    "import pandas as pd\n",
    "\n",
    "from astroExplain.spectra.explanation import ingest_explanations_into_array\n",
    "from sdss.metadata import MetaData\n",
    "\n",
    "meta = MetaData()"
   ]
  },
  {
   "cell_type": "markdown",
   "metadata": {},
   "source": [
    "# Data ingestion"
   ]
  },
  {
   "cell_type": "code",
   "execution_count": 2,
   "metadata": {},
   "outputs": [],
   "source": [
    "bin_id = \"bin_03\"\n",
    "phd_dir = \"/home/elom/phd\"\n",
    "spectra_dir = f\"{phd_dir}/00_phd_code/spectra\"\n",
    "explanations_dir = f\"{phd_dir}/00_phd_code/explanations\""
   ]
  },
  {
   "cell_type": "code",
   "execution_count": 3,
   "metadata": {},
   "outputs": [],
   "source": [
    "meta_data_df = pd.read_csv(\n",
    "    f\"{spectra_dir}/0_01_z_0_5_4_0_snr_inf.csv.gz\",\n",
    "    index_col=\"specobjid\",\n",
    ")\n",
    "\n",
    "wave = np.load(f\"{spectra_dir}/wave_spectra_imputed.npy\")\n",
    "spectra = np.load(f\"{spectra_dir}/spectra_imputed.npy\", mmap_mode=\"r\")"
   ]
  },
  {
   "cell_type": "markdown",
   "metadata": {},
   "source": [
    "# MSE noRel 100"
   ]
  },
  {
   "cell_type": "code",
   "execution_count": null,
   "metadata": {},
   "outputs": [],
   "source": [
    "score_name = \"mse_noRel100\"\n",
    "# explanation_run_id = \"20250427190650_uniform_5000_scale\"\n",
    "# explanation_run_id = \"20250507071140_uniform_188_scale_0.9\"\n",
    "# explanation_run_id = \"20250513153311_uniform_110_scale_0.9\"\n",
    "explanation_run_id = \"20250514144513_uniform_150_scale_0.9\"\n",
    "\n",
    "anomalies_df = pd.read_csv(\n",
    "    f\"{spectra_dir}/{bin_id}/{score_name}/top_anomalies.csv.gz\",\n",
    "    index_col=\"specobjid\",\n",
    ")\n",
    "\n",
    "weights = ingest_explanations_into_array(\n",
    "    specobjids_array=anomalies_df.index.values,\n",
    "    wave=wave,\n",
    "    load_from_dir=f\"{explanations_dir}/{bin_id}/{score_name}/{explanation_run_id}\",\n",
    ")\n",
    "\n",
    "np.save(\n",
    "    f\"{explanations_dir}/{bin_id}/{score_name}/weights_{explanation_run_id}.npy\",\n",
    "    weights,\n",
    ")"
   ]
  },
  {
   "cell_type": "code",
   "execution_count": 14,
   "metadata": {},
   "outputs": [
    {
     "data": {
      "text/plain": [
       "[<matplotlib.lines.Line2D at 0x79c79a777200>]"
      ]
     },
     "execution_count": 14,
     "metadata": {},
     "output_type": "execute_result"
    },
    {
     "data": {
      "image/png": "[encoded data removed]",
      "text/plain": [
       "<Figure size 640x480 with 2 Axes>"
      ]
     },
     "metadata": {},
     "output_type": "display_data"
    }
   ],
   "source": [
    "score_name = \"mse_noRel100\"\n",
    "# explanation_run_id = \"20250427190650_uniform_5000_scale\"\n",
    "explanation_run_id = \"20250514144513_uniform_150_scale_0.9\"\n",
    "\n",
    "\n",
    "mse_weights = np.load(\n",
    "    f\"{explanations_dir}/{bin_id}/{score_name}/weights_{explanation_run_id}.npy\",\n",
    "    mmap_mode=\"r\",\n",
    ")\n",
    "\n",
    "mse_spectra = np.load(\n",
    "    f\"{spectra_dir}/{bin_id}/{score_name}/top_anomalies.npy\",\n",
    "    mmap_mode=\"r\"\n",
    ")\n",
    "\n",
    "anomalies_df = pd.read_csv(\n",
    "    f\"{spectra_dir}/{bin_id}/{score_name}/top_anomalies.csv.gz\",\n",
    "    index_col=\"specobjid\",\n",
    ")\n",
    "\n",
    "# specobjid = 637325355518027776\n",
    "specobjid = 3240467000396376064\n",
    "idx = np.where(anomalies_df.index.values == specobjid)[0][0]\n",
    "\n",
    "mse_weights = np.abs(mse_weights)\n",
    "mse_weights /= np.max(mse_weights, axis=1, keepdims=True)\n",
    "\n",
    "fig, axs = plt.subplots(2, 1, figsize=None, sharex=True)\n",
    "axs[0].plot(wave, mse_spectra[idx, :], color=\"black\")\n",
    "axs[1].plot(wave, mse_weights[idx, :], color=\"black\")"
   ]
  },
  {
   "cell_type": "markdown",
   "metadata": {},
   "source": [
    "# MSE noRel 97"
   ]
  },
  {
   "cell_type": "code",
   "execution_count": 4,
   "metadata": {},
   "outputs": [],
   "source": [
    "score_name = \"mse_noRel97\"\n",
    "# explanation_run_id = \"20250427151754_uniform_5000_scale\"\n",
    "explanation_run_id = \"20250515092253_uniform_150_scale_0.9\"\n",
    "anomalies_df = pd.read_csv(\n",
    "    f\"{spectra_dir}/{bin_id}/{score_name}/top_anomalies.csv.gz\",\n",
    "    index_col=\"specobjid\",\n",
    ")\n",
    "\n",
    "weights = ingest_explanations_into_array(\n",
    "    specobjids_array=anomalies_df.index.values,\n",
    "    wave=wave,\n",
    "    load_from_dir=f\"{explanations_dir}/{bin_id}/{score_name}/{explanation_run_id}\",\n",
    ")\n",
    "\n",
    "np.save(\n",
    "    f\"{explanations_dir}/{bin_id}/{score_name}/weights_{explanation_run_id}.npy\",\n",
    "    weights,\n",
    ")"
   ]
  },
  {
   "cell_type": "markdown",
   "metadata": {},
   "source": [
    "# MSE 250kms noRel100"
   ]
  },
  {
   "cell_type": "code",
   "execution_count": null,
   "metadata": {},
   "outputs": [],
   "source": [
    "score_name = \"mse_filter_250kms_noRel100\"\n",
    "# explanation_run_id = \"20250427094150_uniform_5000_scale\"\n",
    "# explanation_run_id = \"20250507090310_uniform_188_scale_0.9\"\n",
    "# explanation_run_id = \"20250513174721_uniform_110_scale_0.9\"\n",
    "explanation_run_id = \"20250514214306_uniform_150_scale_0.9\"\n",
    "\n",
    "anomalies_df = pd.read_csv(\n",
    "    f\"{spectra_dir}/{bin_id}/{score_name}/top_anomalies.csv.gz\",\n",
    "    index_col=\"specobjid\",\n",
    ")\n",
    "\n",
    "weights = ingest_explanations_into_array(\n",
    "    specobjids_array=anomalies_df.index.values,\n",
    "    wave=wave,\n",
    "    load_from_dir=f\"{explanations_dir}/{bin_id}/{score_name}/{explanation_run_id}\",\n",
    ")\n",
    "\n",
    "np.save(\n",
    "    f\"{explanations_dir}/{bin_id}/{score_name}/weights_{explanation_run_id}.npy\",\n",
    "    weights,\n",
    ")"
   ]
  },
  {
   "cell_type": "markdown",
   "metadata": {},
   "source": [
    "# MSE 250kms noRel97"
   ]
  },
  {
   "cell_type": "code",
   "execution_count": null,
   "metadata": {},
   "outputs": [],
   "source": [
    "score_name = \"mse_filter_250kms_noRel97\"\n",
    "# explanation_run_id = \"20250427105355_uniform_5000_scale\"\n",
    "# explanation_run_id = \"20250513185644_uniform_110_scale_0.9\"\n",
    "explanation_run_id = \"20250514105957_uniform_150_scale_0.9\"\n",
    "# explanation_run_id = \"\"\n",
    "\n",
    "anomalies_df = pd.read_csv(\n",
    "    f\"{spectra_dir}/{bin_id}/{score_name}/top_anomalies.csv.gz\",\n",
    "    index_col=\"specobjid\",\n",
    ")\n",
    "\n",
    "weights = ingest_explanations_into_array(\n",
    "    specobjids_array=anomalies_df.index.values,\n",
    "    wave=wave,\n",
    "    load_from_dir=f\"{explanations_dir}/{bin_id}/{score_name}/{explanation_run_id}\",\n",
    ")\n",
    "\n",
    "np.save(\n",
    "    f\"{explanations_dir}/{bin_id}/{score_name}/weights_{explanation_run_id}.npy\",\n",
    "    weights,\n",
    ")"
   ]
  },
  {
   "cell_type": "code",
   "execution_count": null,
   "metadata": {},
   "outputs": [],
   "source": []
  }
 ],
 "metadata": {
  "kernelspec": {
   "display_name": "phd",
   "language": "python",
   "name": "python3"
  },
  "language_info": {
   "codemirror_mode": {
    "name": "ipython",
    "version": 3
   },
   "file_extension": ".py",
   "mimetype": "text/x-python",
   "name": "python",
   "nbconvert_exporter": "python",
   "pygments_lexer": "ipython3",
   "version": "3.12.3"
  },
  "orig_nbformat": 4
 },
 "nbformat": 4,
 "nbformat_minor": 2
}
