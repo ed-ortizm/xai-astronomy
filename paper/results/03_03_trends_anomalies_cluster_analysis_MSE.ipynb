{
 "cells": [
  {
   "cell_type": "markdown",
   "metadata": {},
   "source": [
    "# Determine optimal number of clusters"
   ]
  },
  {
   "cell_type": "code",
   "execution_count": 1,
   "metadata": {},
   "outputs": [],
   "source": [
    "import os\n",
    "# Set environment variables to disable multithreading\n",
    "# as users will probably want to set the number of cores\n",
    "# to the max of their computer.\n",
    "os.environ[\"OMP_NUM_THREADS\"] = \"1\"\n",
    "os.environ[\"OPENBLAS_NUM_THREADS\"] = \"1\"\n",
    "os.environ[\"MKL_NUM_THREADS\"] = \"1\"\n",
    "os.environ[\"VECLIB_MAXIMUM_THREADS\"] = \"1\"\n",
    "os.environ[\"NUMEXPR_NUM_THREADS\"] = \"1\"\n",
    "\n",
    "os.environ[\"TF_CPP_MIN_LOG_LEVEL\"] = \"2\"\n"
   ]
  },
  {
   "cell_type": "code",
   "execution_count": null,
   "metadata": {},
   "outputs": [],
   "source": []
  },
  {
   "cell_type": "code",
   "execution_count": 1,
   "metadata": {},
   "outputs": [],
   "source": [
    "import time\n",
    "\n",
    "import matplotlib.pyplot as plt\n",
    "import matplotlib.ticker as ticker\n",
    "import numpy as np\n",
    "import pandas as pd\n",
    "from sklearn.cluster import KMeans\n",
    "\n",
    "from astroExplain.spectra import clustering\n",
    "from sdss.metadata import MetaData\n",
    "\n",
    "meta = MetaData()"
   ]
  },
  {
   "cell_type": "markdown",
   "metadata": {},
   "source": [
    "# Custom functions"
   ]
  },
  {
   "cell_type": "markdown",
   "metadata": {},
   "source": [
    "# Data ingestion"
   ]
  },
  {
   "cell_type": "code",
   "execution_count": 2,
   "metadata": {},
   "outputs": [],
   "source": [
    "bin_id = \"bin_03\"\n",
    "phd_dir = \"/home/elom/phd\"\n",
    "spectra_dir = f\"{phd_dir}/00_phd_code/spectra\"\n",
    "explanations_dir = f\"{phd_dir}/00_phd_code/explanations\"\n",
    "paper_figures_dir = f\"{phd_dir}/00_paper_explain-me-why/sections/figures/\"\n",
    "wave = np.load(f\"{spectra_dir}/wave_spectra_imputed.npy\")\n"
   ]
  },
  {
   "cell_type": "markdown",
   "metadata": {},
   "source": [
    "# MSE\n",
    "From previous analysis we determined the number of clusters is 5"
   ]
  },
  {
   "cell_type": "code",
   "execution_count": 3,
   "metadata": {},
   "outputs": [],
   "source": [
    "score_name = \"mse_noRel100\"\n",
    "explanation_run_id = \"20250427190650_uniform_5000_scale\"\n",
    "\n",
    "weights = np.load(\n",
    "    f\"{explanations_dir}/{bin_id}/{score_name}/weights_{explanation_run_id}.npy\",\n",
    ")\n",
    "\n",
    "anomalies_array = np.load(\n",
    "    f\"{spectra_dir}/{bin_id}/{score_name}/top_anomalies.npy\",\n",
    "    mmap_mode=\"r\"\n",
    ")\n",
    "\n",
    "anomalies_df = pd.read_csv(\n",
    "    f\"{spectra_dir}/{bin_id}/{score_name}/top_anomalies.csv.gz\",\n",
    "    index_col=\"specobjid\",\n",
    ")\n"
   ]
  },
  {
   "cell_type": "markdown",
   "metadata": {},
   "source": [
    "## Train kmeans"
   ]
  },
  {
   "cell_type": "code",
   "execution_count": 4,
   "metadata": {},
   "outputs": [
    {
     "name": "stdout",
     "output_type": "stream",
     "text": [
      "Base size: 29, Residual size: 61\n",
      "New number of segments: 129\n",
      "train time: 0.21 seconds\n"
     ]
    }
   ],
   "source": [
    "X = clustering.get_weights_per_segments(\n",
    "    weights=weights, n_segments=128\n",
    ")\n",
    "X = np.abs(X)/np.max(np.abs(X), axis=1, keepdims=True)\n",
    "\n",
    "n_clusters = 5\n",
    "\n",
    "start_time = time.perf_counter()\n",
    "kmeans = KMeans(n_clusters=n_clusters, random_state=0).fit(X)\n",
    "end_time = time.perf_counter()\n",
    "print(f\"train time: {end_time - start_time:.2f} seconds\")"
   ]
  },
  {
   "cell_type": "code",
   "execution_count": 5,
   "metadata": {},
   "outputs": [
    {
     "name": "stdout",
     "output_type": "stream",
     "text": [
      "Cluster: 0, N. spectra: 1993\n",
      "Cluster: 1, N. spectra: 3704\n",
      "Cluster: 2, N. spectra: 1603\n",
      "Cluster: 3, N. spectra: 1759\n",
      "Cluster: 4, N. spectra: 941\n"
     ]
    }
   ],
   "source": [
    "cluster_labels = kmeans.labels_\n",
    "(\n",
    "    spectra_cluster_dict, weights_cluster_dict\n",
    ") = clustering.group_spectra_by_cluster(\n",
    "    cluster_labels=cluster_labels,\n",
    "    anomalies_array=anomalies_array,\n",
    "    weights=weights\n",
    ")"
   ]
  },
  {
   "cell_type": "code",
   "execution_count": null,
   "metadata": {},
   "outputs": [],
   "source": []
  },
  {
   "cell_type": "code",
   "execution_count": null,
   "metadata": {},
   "outputs": [],
   "source": []
  },
  {
   "cell_type": "code",
   "execution_count": null,
   "metadata": {},
   "outputs": [],
   "source": []
  },
  {
   "cell_type": "markdown",
   "metadata": {},
   "source": [
    "# MSE noRel 97"
   ]
  },
  {
   "cell_type": "code",
   "execution_count": 7,
   "metadata": {},
   "outputs": [],
   "source": [
    "score_name = \"mse_noRel97\"\n",
    "explanation_run_id = \"20250427151754_uniform_5000_scale\"\n",
    "\n",
    "weights = np.load(\n",
    "    f\"{explanations_dir}/{bin_id}/{score_name}/weights_{explanation_run_id}.npy\",\n",
    ")\n"
   ]
  },
  {
   "cell_type": "markdown",
   "metadata": {},
   "source": [
    "# MSE filter 250 kms noRel100"
   ]
  },
  {
   "cell_type": "code",
   "execution_count": 20,
   "metadata": {},
   "outputs": [],
   "source": [
    "score_name = \"mse_filter_250kms_noRel100\"\n",
    "explanation_run_id = \"20250427094150_uniform_5000_scale\"\n",
    "\n",
    "weights = np.load(\n",
    "    f\"{explanations_dir}/{bin_id}/{score_name}/weights_{explanation_run_id}.npy\",\n",
    ")"
   ]
  },
  {
   "cell_type": "markdown",
   "metadata": {},
   "source": [
    "# MSE filter 250 kms noRel97"
   ]
  },
  {
   "cell_type": "code",
   "execution_count": 11,
   "metadata": {},
   "outputs": [],
   "source": [
    "score_name = \"mse_filter_250kms_noRel97\"\n",
    "explanation_run_id = \"20250427105355_uniform_5000_scale\"\n",
    "\n",
    "weights = np.load(\n",
    "    f\"{explanations_dir}/{bin_id}/{score_name}/weights_{explanation_run_id}.npy\",\n",
    ")"
   ]
  }
 ],
 "metadata": {
  "kernelspec": {
   "display_name": "phd",
   "language": "python",
   "name": "python3"
  },
  "language_info": {
   "codemirror_mode": {
    "name": "ipython",
    "version": 3
   },
   "file_extension": ".py",
   "mimetype": "text/x-python",
   "name": "python",
   "nbconvert_exporter": "python",
   "pygments_lexer": "ipython3",
   "version": "3.12.3"
  },
  "orig_nbformat": 4
 },
 "nbformat": 4,
 "nbformat_minor": 2
}
