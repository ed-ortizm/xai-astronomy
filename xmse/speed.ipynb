{
 "cells": [
  {
   "cell_type": "code",
   "execution_count": 1,
   "metadata": {},
   "outputs": [],
   "source": [
    "import os\n",
    "\n",
    "# Set environment variables to disable multithreading as users will probably\n",
    "# want to set the number of cores to the max of their computer.\n",
    "os.environ[\"OMP_NUM_THREADS\"] = \"1\"\n",
    "os.environ[\"OPENBLAS_NUM_THREADS\"] = \"1\"\n",
    "os.environ[\"MKL_NUM_THREADS\"] = \"1\"\n",
    "os.environ[\"VECLIB_MAXIMUM_THREADS\"] = \"1\"\n",
    "os.environ[\"NUMEXPR_NUM_THREADS\"] = \"1\"\n",
    "###############################################################################\n",
    "# Set TensorFlow print of log information\n",
    "# 0 = all messages are logged (default behavior)\n",
    "# 1 = INFO messages are not printed\n",
    "# 2 = INFO and WARNING messages are not printed\n",
    "# 3 = INFO, WARNING, and ERROR messages are not printed\n",
    "os.environ[\"TF_CPP_MIN_LOG_LEVEL\"] = \"2\"\n"
   ]
  },
  {
   "cell_type": "code",
   "execution_count": 11,
   "metadata": {},
   "outputs": [],
   "source": [
    "from functools import partial\n",
    "import pickle\n",
    "import time\n",
    "\n",
    "import matplotlib.pyplot as plt\n",
    "import numpy as np\n",
    "import pandas as pd\n",
    "\n",
    "from anomaly.constants import GALAXY_LINES\n",
    "from anomaly.reconstruction import ReconstructionAnomalyScore\n",
    "from anomaly.utils import FilterParameters, ReconstructionParameters\n",
    "from astroExplain.spectra.explainer import LimeSpectraExplainer\n",
    "from astroExplain.spectra.segment import SpectraSegmentation\n",
    "from autoencoders.ae import AutoEncoder\n",
    "from sdss.metadata import MetaData\n",
    "from sdss.utils.managefiles import FileDirectory\n",
    "from anomaly.utils import specobjid_to_idx\n",
    "from anomaly.utils import set_intersection\n",
    "from astroExplain.spectra.utils import get_anomaly_score_name\n",
    "\n",
    "meta = MetaData()\n",
    "%matplotlib inline"
   ]
  },
  {
   "cell_type": "code",
   "execution_count": 3,
   "metadata": {},
   "outputs": [],
   "source": [
    "# config\n",
    "bin_id = \"bin_04\"\n",
    "model_id = \"0013\"\n",
    "architecture = \"256_128_64/latent_12\"\n",
    "meta_data_directory = \"/home/edgar/spectra/0_01_z_0_5_4_0_snr_inf\"\n",
    "model_directory = f\"{meta_data_directory}/{bin_id}/models/{architecture}/{model_id}\"\n",
    "explanations_directory = f\"{meta_data_directory}/{bin_id}/explanation/{architecture}\"\n",
    "scores_directory = f\"{meta_data_directory}/bin_04/explanation/256_128_64/latent_12\""
   ]
  },
  {
   "cell_type": "code",
   "execution_count": 4,
   "metadata": {},
   "outputs": [],
   "source": [
    "# load data\n",
    "wave = np.load(f\"{meta_data_directory}/wave.npy\")\n",
    "meta_data_df = pd.read_csv(f\"{meta_data_directory}/0_01_z_0_5_4_0_snr_inf.csv.gz\", index_col=\"specobjid\")\n",
    "model = AutoEncoder(reload=True, reload_from=model_directory)\n",
    "spectra = np.load(f\"{meta_data_directory}/spectra.npy\", mmap_mode=\"r\")\n",
    "idx_id = np.load(f\"{meta_data_directory}/{bin_id}/{bin_id}_index_specobjid.npy\")"
   ]
  },
  {
   "cell_type": "code",
   "execution_count": 9,
   "metadata": {},
   "outputs": [
    {
     "name": "stdout",
     "output_type": "stream",
     "text": [
      "Set explainer and Get explanations\n"
     ]
    }
   ],
   "source": [
    "# anomaly score\n",
    "score_config = {\n",
    "    \"metric\": \"mse\",\n",
    "    \"velocity\": 250,\n",
    "# if reconstruction\n",
    "    \"relative\": True,\n",
    "    \"percentage\": 97,\n",
    "    \"epsilon\": 0.001,\n",
    "    \"lines\": list(GALAXY_LINES.keys())\n",
    "}\n",
    "lime_config = {\n",
    "    \"segmentation\": \"uniform\",\n",
    "    \"number_segments\": 64,\n",
    "    \"number_samples\": 5000,\n",
    "    \"batch_size\": 100,\n",
    "    \"progress_bar\": False,\n",
    "    \"distance_metric\": \"cosine\",\n",
    "    \"number_features\": 10000\n",
    "}\n",
    "fudge_config = {\n",
    "# same, same_shape, flat, with_mean, gaussians, scale\n",
    "    \"kind_of_fudge\": \"scale\",\n",
    "# scale\n",
    "    \"scale_factor\": 0.9,\n",
    "# flat\n",
    "    \"continuum\": 1,\n",
    "# gaussians\n",
    "    \"amplitude\":1.,\n",
    "    \"sigmas_in_segment\": 8,\n",
    "# control-noise\n",
    "    \"same_noise\": False,\n",
    "    \"kernel_size\": 3,\n",
    "    \"sigma\": 0\n",
    "}\n",
    "\n",
    "# load data frame with anomalies\n",
    "anomaly_from_score = get_anomaly_score_name(\n",
    "    metric=score_config[\"metric\"],\n",
    "    velocity=score_config[\"velocity\"],\n",
    "    relative=score_config[\"relative\"],\n",
    "    percentage=score_config[\"percentage\"]\n",
    ")\n",
    "\n",
    "anomalies_df = pd.read_csv(\n",
    "    f\"{explanations_directory}/{anomaly_from_score}/top_anomalies.csv.gz\",\n",
    "    index_col=\"specobjid\"\n",
    ")\n",
    "\n",
    "specobjid = anomalies_df.index[-14]\n",
    "idx_spectrum = specobjid_to_idx(specobjid, idx_id)\n",
    "spectrum = spectra[idx_spectrum]\n",
    "\n",
    "\n",
    "anomaly = ReconstructionAnomalyScore(\n",
    "    # reconstruct_function\n",
    "    model.reconstruct,\n",
    "    filter_parameters=FilterParameters(\n",
    "        wave=wave,\n",
    "        lines=score_config[\"lines\"],\n",
    "        velocity_filter=score_config[\"velocity\"]\n",
    "    ),\n",
    "    reconstruction_parameters=ReconstructionParameters(\n",
    "        percentage=score_config[\"percentage\"],\n",
    "        relative=score_config[\"relative\"],\n",
    "        epsilon=score_config[\"epsilon\"]\n",
    "    )\n",
    ")\n",
    "\n",
    "anomaly_score_function = partial(\n",
    "    anomaly.score, metric=score_config[\"metric\"]\n",
    ")\n",
    "# Set explainer instance\n",
    "print(f\"Set explainer and Get explanations\", end=\"\\n\")\n",
    "explainer = LimeSpectraExplainer(random_state=0)\n",
    "\n",
    "if lime_config[\"segmentation\"] == \"kmeans\":\n",
    "    \n",
    "    segmentation_fn = SpectraSegmentation().kmeans\n",
    "\n",
    "elif lime_config[\"segmentation\"] == \"uniform\":\n",
    "\n",
    "    segmentation_fn = SpectraSegmentation().uniform\n",
    "\n",
    "\n",
    "segmentation_fn = partial(\n",
    "    segmentation_fn, number_segments=lime_config[\"number_segments\"]\n",
    ")\n",
    "# Load galaxy\n",
    "# Compute anomaly score\n",
    "# convert spectrum to gray image\n",
    "spectrum = spectrum[np.newaxis, :]"
   ]
  },
  {
   "cell_type": "code",
   "execution_count": 20,
   "metadata": {},
   "outputs": [
    {
     "name": "stdout",
     "output_type": "stream",
     "text": [
      "0.0614\n",
      "0.1100\n",
      "0.8205\n",
      "4.2336\n",
      "8.3995\n"
     ]
    }
   ],
   "source": [
    "# Get explanations\n",
    "n_samples = [10, 100, 1_000, 5_000, 10_000]\n",
    "speed = []\n",
    "for n in n_samples:\n",
    "    lime_config[\"number_samples\"] = n\n",
    "\n",
    "    t_start = time.perf_counter()\n",
    "    explanation = explainer.explain_instance(\n",
    "        spectrum=spectrum,\n",
    "        classifier_fn=anomaly_score_function,\n",
    "        segmentation_fn=segmentation_fn,\n",
    "        fudge_parameters = fudge_config,\n",
    "        explainer_parameters = lime_config,\n",
    "    )\n",
    "    t_finish = time.perf_counter()\n",
    "    speed.append(t_finish-t_start)\n",
    "    print(f\"{t_finish-t_start:.4f}\")"
   ]
  },
  {
   "cell_type": "code",
   "execution_count": 21,
   "metadata": {},
   "outputs": [
    {
     "data": {
      "text/plain": [
       "[<matplotlib.lines.Line2D at 0x7fcec813c3a0>]"
      ]
     },
     "execution_count": 21,
     "metadata": {},
     "output_type": "execute_result"
    },
    {
     "data": {
      "image/png": "[encoded data removed]",
      "text/plain": [
       "<Figure size 432x288 with 1 Axes>"
      ]
     },
     "metadata": {
      "needs_background": "light"
     },
     "output_type": "display_data"
    }
   ],
   "source": [
    "plt.plot(n_samples, speed)"
   ]
  },
  {
   "cell_type": "code",
   "execution_count": 22,
   "metadata": {},
   "outputs": [
    {
     "name": "stdout",
     "output_type": "stream",
     "text": [
      "0.0445\n"
     ]
    }
   ],
   "source": [
    "# Get explanations\n",
    "t_start = time.perf_counter()\n",
    "reconstruction  = model.reconstruct(spectrum)\n",
    "t_finish = time.perf_counter()\n",
    "print(f\"{t_finish-t_start:.4f}\")"
   ]
  },
  {
   "cell_type": "code",
   "execution_count": null,
   "metadata": {},
   "outputs": [],
   "source": []
  },
  {
   "cell_type": "code",
   "execution_count": null,
   "metadata": {},
   "outputs": [],
   "source": []
  }
 ],
 "metadata": {
  "kernelspec": {
   "display_name": "Python 3.10.4 64-bit",
   "language": "python",
   "name": "python3"
  },
  "language_info": {
   "codemirror_mode": {
    "name": "ipython",
    "version": 3
   },
   "file_extension": ".py",
   "mimetype": "text/x-python",
   "name": "python",
   "nbconvert_exporter": "python",
   "pygments_lexer": "ipython3",
   "version": "3.10.4"
  },
  "orig_nbformat": 4,
  "vscode": {
   "interpreter": {
    "hash": "916dbcbb3f70747c44a77c7bcd40155683ae19c65e1c03b4aa3499c5328201f1"
   }
  }
 },
 "nbformat": 4,
 "nbformat_minor": 2
}
