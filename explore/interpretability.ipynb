{
 "cells": [
  {
   "cell_type": "code",
   "execution_count": 10,
   "metadata": {},
   "outputs": [],
   "source": [
    "import os\n",
    "\n",
    "# Set environment variables to disable multithreading as users will probably\n",
    "# want to set the number of cores to the max of their computer.\n",
    "os.environ[\"OMP_NUM_THREADS\"] = \"1\"\n",
    "os.environ[\"OPENBLAS_NUM_THREADS\"] = \"1\"\n",
    "os.environ[\"MKL_NUM_THREADS\"] = \"1\"\n",
    "os.environ[\"VECLIB_MAXIMUM_THREADS\"] = \"1\"\n",
    "os.environ[\"NUMEXPR_NUM_THREADS\"] = \"1\"\n",
    "###############################################################################\n",
    "# Set TensorFlow print of log information\n",
    "# 0 = all messages are logged (default behavior)\n",
    "# 1 = INFO messages are not printed\n",
    "# 2 = INFO and WARNING messages are not printed\n",
    "# 3 = INFO, WARNING, and ERROR messages are not printed\n",
    "os.environ[\"TF_CPP_MIN_LOG_LEVEL\"] = \"2\"\n"
   ]
  },
  {
   "cell_type": "code",
   "execution_count": 11,
   "metadata": {},
   "outputs": [],
   "source": [
    "import pickle\n",
    "\n",
    "import matplotlib.pyplot as plt\n",
    "import numpy as np\n",
    "import pandas as pd\n",
    "\n",
    "from anomaly.constants import GALAXY_LINES\n",
    "from autoencoders.ae import AutoEncoder\n",
    "from sdss.metadata import MetaData\n",
    "from anomaly.utils import specobjid_to_idx\n",
    "from astroExplain.spectra.notebook import interpret, explain_reconstruction_score\n",
    "\n",
    "meta = MetaData()\n",
    "%matplotlib inline"
   ]
  },
  {
   "cell_type": "code",
   "execution_count": 12,
   "metadata": {},
   "outputs": [],
   "source": [
    "# def interpret(specobjid, data_directory, wave, npos=5, nneg=5, pkl=True, explanation=None):\n",
    "#     \"\"\"Visualize interpretability\"\"\"\n",
    "\n",
    "#     if pkl is True:\n",
    "        \n",
    "#         with open(f\"{data_directory}/{specobjid}.pkl\", \"rb\") as file:\n",
    "\n",
    "#             explanation = pickle.load(file)\n",
    "    \n",
    "#     why = TellMeWhy(wave=wave, explanation=explanation)\n",
    "#     fig, axs = why.plot_full_explanation()\n",
    "\n",
    "#     _, positive_spectrum = why.positive_mask_and_segments(npos)\n",
    "#     _, negative_spectrum = why.negative_mask_and_segments(nneg)\n",
    "#     weights_explanation = why.get_heatmap()\n",
    "#     # weights_explanation = why.smooth_and_normalize_explanation(False, 0.)\n",
    "#     for ax in axs: ax.clear()\n",
    "\n",
    "#     axs[0].plot(why.wave, why.galaxy, c=\"black\")\n",
    "#     axs[0].plot(why.wave, positive_spectrum, c=\"red\")\n",
    "#     axs[0].plot(why.wave, negative_spectrum, c=\"blue\")\n",
    "\n",
    "#     max_weight = np.nanmax(np.abs(weights_explanation))\n",
    "#     max_weight += 0.1*max_weight\n",
    "#     axs[1].set_ylim(ymin=-max_weight, ymax=max_weight)\n",
    "\n",
    "#     axs[1].plot(why.wave, weights_explanation)\n",
    "#     axs[1].hlines(0, xmin=wave.min(), xmax=wave.max(), color=\"black\")\n",
    "\n",
    "#     return fig, axs\n",
    "\n",
    "# def explain_score(\n",
    "#     wave:np.array, spectrum: np.array,\n",
    "#     score_configuration: dict, lime_configuration: dict, fudge_configuration: dict,\n",
    "#     model,\n",
    "# ):\n",
    "\n",
    "#     anomaly = ReconstructionAnomalyScore(\n",
    "#         # reconstruct_function\n",
    "#         model.reconstruct,\n",
    "#         filter_parameters=FilterParameters(\n",
    "#             wave=wave,\n",
    "#             lines=score_configuration[\"lines\"],\n",
    "#             velocity_filter=score_configuration[\"velocity\"]\n",
    "#         ),\n",
    "#         reconstruction_parameters=ReconstructionParameters(\n",
    "#             percentage=score_configuration[\"percentage\"],\n",
    "#             relative=score_configuration[\"relative\"],\n",
    "#             epsilon=score_configuration[\"epsilon\"]\n",
    "#         )\n",
    "#     )\n",
    "\n",
    "#     anomaly_score_function = partial(\n",
    "#         anomaly.score, metric=score_configuration[\"metric\"]\n",
    "#     )\n",
    "#     # Set explainer instance\n",
    "#     print(f\"Set explainer and Get explanations\", end=\"\\n\")\n",
    "#     explainer = LimeSpectraExplainer(random_state=0)\n",
    "\n",
    "#     if lime_configuration[\"segmentation\"] == \"kmeans\":\n",
    "        \n",
    "#         segmentation_fn = SpectraSegmentation().kmeans\n",
    "\n",
    "#     elif lime_configuration[\"segmentation\"] == \"uniform\":\n",
    "\n",
    "#         segmentation_fn = SpectraSegmentation().uniform\n",
    "\n",
    "\n",
    "    # segmentation_fn = partial(\n",
    "    #     segmentation_fn, number_segments=lime_configuration[\"number_segments\"]\n",
    "    # )\n",
    "    # # Load galaxy\n",
    "    # # Compute anomaly score\n",
    "    # # convert spectrum to gray image\n",
    "    # spectrum = spectrum[np.newaxis, :]\n",
    "    # # Get explanations\n",
    "    # explanation = explainer.explain_instance(\n",
    "    #     spectrum=spectrum,\n",
    "    #     classifier_fn=anomaly_score_function,\n",
    "    #     segmentation_fn=segmentation_fn,\n",
    "    #     fudge_parameters = fudge_configuration,\n",
    "    #     explainer_parameters = lime_configuration,\n",
    "    # )\n",
    "\n",
    "    # return explanation"
   ]
  },
  {
   "cell_type": "code",
   "execution_count": 13,
   "metadata": {},
   "outputs": [],
   "source": [
    "# config\n",
    "bin_id = \"bin_04\"\n",
    "model_id = \"0013\"\n",
    "architecture = \"256_128_64/latent_12\"\n",
    "meta_data_directory = \"/home/edgar/spectra/0_01_z_0_5_4_0_snr_inf\"\n",
    "model_directory = f\"{meta_data_directory}/{bin_id}/models/{architecture}/{model_id}\"\n",
    "explanations_directory = f\"{meta_data_directory}/{bin_id}/explanation/{architecture}\""
   ]
  },
  {
   "cell_type": "code",
   "execution_count": 14,
   "metadata": {},
   "outputs": [],
   "source": [
    "# load data\n",
    "wave = np.load(f\"{meta_data_directory}/wave.npy\")\n",
    "meta_data_df = pd.read_csv(f\"{meta_data_directory}/0_01_z_0_5_4_0_snr_inf.csv.gz\", index_col=\"specobjid\")\n",
    "model = AutoEncoder(reload=True, reload_from=model_directory)"
   ]
  },
  {
   "cell_type": "markdown",
   "metadata": {},
   "source": [
    "## Explore common anomalies of different scores"
   ]
  },
  {
   "cell_type": "markdown",
   "metadata": {},
   "source": [
    "### $L^p$ scores"
   ]
  },
  {
   "cell_type": "code",
   "execution_count": 17,
   "metadata": {},
   "outputs": [],
   "source": [
    "intersection_directory = f\"{explanations_directory}/intersections\"\n",
    "specobjid_common_anomalies = np.load(f\"{intersection_directory}/specobjid_lp_intersection_1000.npy\")\n",
    "spectra = np.load(f\"{meta_data_directory}/spectra.npy\", mmap_mode=\"r\")\n",
    "idx_id = np.load(f\"{meta_data_directory}/{bin_id}/{bin_id}_index_specobjid.npy\")"
   ]
  },
  {
   "cell_type": "markdown",
   "metadata": {},
   "source": [
    "### generate explanation in notebook"
   ]
  },
  {
   "cell_type": "code",
   "execution_count": 29,
   "metadata": {},
   "outputs": [
    {
     "data": {
      "text/plain": [
       "dict_keys(['OII_3726', 'H_delta_4101', 'H_gamma_4340', 'H_beta_4861', 'OIII_4959', 'OIII_5006', 'NII_6548', 'H_alpha_6562', 'NII_6583', 'SII_6716', 'SII_6730'])"
      ]
     },
     "execution_count": 29,
     "metadata": {},
     "output_type": "execute_result"
    }
   ],
   "source": [
    "GALAXY_LINES"
   ]
  },
  {
   "cell_type": "code",
   "execution_count": 34,
   "metadata": {},
   "outputs": [
    {
     "name": "stdout",
     "output_type": "stream",
     "text": [
      "Set explainer and Get explanations\n",
      "Get heat map of explanation\n"
     ]
    },
    {
     "data": {
      "text/plain": [
       "'http://skyserver.sdss.org/dr16/en/tools/explore/summary.aspx?sid=1780176998165932032&apid='"
      ]
     },
     "execution_count": 34,
     "metadata": {},
     "output_type": "execute_result"
    },
    {
     "data": {
      "image/png": "[encoded data removed]",
      "text/plain": [
       "<Figure size 720x360 with 2 Axes>"
      ]
     },
     "metadata": {
      "needs_background": "light"
     },
     "output_type": "display_data"
    }
   ],
   "source": [
    "# config file\n",
    "score_config = {\n",
    "    \"metric\": \"lp\",\n",
    "    \"velocity\": 250,\n",
    "# if reconstruction\n",
    "    \"relative\": False,\n",
    "    \"percentage\": 97,\n",
    "    \"epsilon\": 0.001,\n",
    "    \"lines\": list(GALAXY_LINES.keys())\n",
    "}\n",
    "lime_config = {\n",
    "# segmentation: [uniform, kmeans]\n",
    "# with kmeans it is a good idea to put a large number\n",
    "# of segments in order to let it find a more suitable\n",
    "# configuration\n",
    "    \"segmentation\": \"uniform\",\n",
    "    \"number_segments\": 128,\n",
    "    \"number_samples\": 2000,\n",
    "    \"batch_size\": 100,\n",
    "    \"progress_bar\": False,\n",
    "    \"distance_metric\": \"cosine\",\n",
    "    \"number_features\": 10000\n",
    "}\n",
    "fudge_config = {\n",
    "# same, same_shape, flat, with_mean, gaussians\n",
    "    \"kind_of_fudge\": \"flat\",\n",
    "# flat\n",
    "    \"continuum\": 1,\n",
    "# gaussians\n",
    "    \"amplitude\":2.,\n",
    "    \"sigmas_in_segment\": 8,\n",
    "# control-noise\n",
    "    \"same_noise\": False,\n",
    "    \"kernel_size\": 3,\n",
    "    \"sigma\": 1\n",
    "}\n",
    "# Load notebook with anomalies\n",
    "anomaly_from_score = \"lp_filter_250kms_noRel97\"\n",
    "anomalies_df = pd.read_csv(\n",
    "    f\"{explanations_directory}/{anomaly_from_score}/top_anomalies.csv.gz\",\n",
    "    index_col=\"specobjid\"\n",
    ")\n",
    "# meta.get_sky_server_url(anomalies_df.index[-4])\n",
    "# plt.plot(wave, galaxy)\n",
    "specobjid = anomalies_df.index[-14]\n",
    "idx_spectrum = specobjid_to_idx(specobjid, idx_id)\n",
    "spectrum = spectra[idx_spectrum]\n",
    "\n",
    "explanation = explain_reconstruction_score(\n",
    "    wave, spectrum,\n",
    "    score_config, lime_config, fudge_config,\n",
    "    model\n",
    ")\n",
    "\n",
    "fig, axs = interpret(wave, explanation=explanation, positive=0, negative=0)\n",
    "meta.get_sky_server_url(specobjid)"
   ]
  },
  {
   "cell_type": "code",
   "execution_count": 46,
   "metadata": {},
   "outputs": [
    {
     "name": "stdout",
     "output_type": "stream",
     "text": [
      "Set explainer and Get explanations\n",
      "Get heat map of explanation\n"
     ]
    },
    {
     "data": {
      "image/png": "[encoded data removed]",
      "text/plain": [
       "<Figure size 720x360 with 2 Axes>"
      ]
     },
     "metadata": {
      "needs_background": "light"
     },
     "output_type": "display_data"
    }
   ],
   "source": [
    "# config file\n",
    "score_configuration = {\n",
    "    \"metric\": \"mse\",\n",
    "    \"velocity\": 0,\n",
    "# if reconstruction\n",
    "    \"relative\": False,\n",
    "    \"percentage\": 100,\n",
    "    \"epsilon\": 0.001,\n",
    "    \"lines\": [\n",
    "        \"OII_3726\",\n",
    "        \"H_delta_4101\",\n",
    "        \"H_gamma_4340\",\n",
    "        \"H_beta_4861\",\n",
    "        \"OIII_4959\",\n",
    "        \"OIII_5006\",\n",
    "        \"NII_6548\",\n",
    "        \"H_alpha_6562\",\n",
    "        \"NII_6583\",\n",
    "        \"SII_6716\",\n",
    "        \"SII_6730\"\n",
    "    ]\n",
    "}\n",
    "lime_configuration = {\n",
    "# segmentation: [uniform, kmeans]\n",
    "# with kmeans it is a good idea to put a large number\n",
    "# of segments in order to let it find a more suitable\n",
    "# configuration\n",
    "    \"segmentation\": \"kmeans\",\n",
    "    \"number_segments\": 64,\n",
    "    \"number_samples\": 1000,\n",
    "    \"batch_size\": 100,\n",
    "    \"progress_bar\": False,\n",
    "    \"distance_metric\": \"cosine\",\n",
    "    \"number_features\": 10000\n",
    "}\n",
    "fudge_configuration = {\n",
    "# same, same_shape, flat, with_mean, gaussians\n",
    "    \"kind_of_fudge\": \"flat\",\n",
    "# flat\n",
    "    \"continuum\": 1,\n",
    "# gaussians\n",
    "    \"amplitude\":1,\n",
    "    \"sigmas_in_segment\": 8,\n",
    "# control-noise\n",
    "    \"same_noise\": True,\n",
    "    \"kernel_size\": 3,\n",
    "    \"sigma\": 5\n",
    "}\n",
    "# Load notebook with anomalies\n",
    "anomaly_from_score = \"mse_filter_250kms_noRel100\"\n",
    "anomalies_df = pd.read_csv(f\"{explanations_directory}/{anomaly_from_score}/top_anomalies.csv.gz\",\n",
    "    index_col=\"specobjid\"\n",
    ")\n",
    "# meta.get_sky_server_url(anomalies_df.index[-4])\n",
    "# plt.plot(wave, galaxy)\n",
    "idx_spectrum = specobjid_to_idx(anomalies_df.index[-12], idx_id)\n",
    "spectrum = spectra[idx_spectrum]\n",
    "\n",
    "explanation = explain_score(wave, spectrum,\n",
    "    score_configuration, lime_configuration, fudge_configuration,\n",
    "    model\n",
    ")\n",
    "\n",
    "fig, axs = interpret(None, None, wave, pkl=False, explanation=explanation, npos=5, nneg=5)"
   ]
  },
  {
   "cell_type": "code",
   "execution_count": null,
   "metadata": {},
   "outputs": [],
   "source": []
  }
 ],
 "metadata": {
  "kernelspec": {
   "display_name": "Python 3.10.4 64-bit",
   "language": "python",
   "name": "python3"
  },
  "language_info": {
   "codemirror_mode": {
    "name": "ipython",
    "version": 3
   },
   "file_extension": ".py",
   "mimetype": "text/x-python",
   "name": "python",
   "nbconvert_exporter": "python",
   "pygments_lexer": "ipython3",
   "version": "3.10.4"
  },
  "orig_nbformat": 4,
  "vscode": {
   "interpreter": {
    "hash": "916dbcbb3f70747c44a77c7bcd40155683ae19c65e1c03b4aa3499c5328201f1"
   }
  }
 },
 "nbformat": 4,
 "nbformat_minor": 2
}
