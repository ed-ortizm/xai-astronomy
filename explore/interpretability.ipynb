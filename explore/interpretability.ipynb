{
 "cells": [
  {
   "cell_type": "code",
   "execution_count": 1,
   "metadata": {},
   "outputs": [],
   "source": [
    "import os\n",
    "\n",
    "# Set environment variables to disable multithreading as users will probably\n",
    "# want to set the number of cores to the max of their computer.\n",
    "os.environ[\"OMP_NUM_THREADS\"] = \"1\"\n",
    "os.environ[\"OPENBLAS_NUM_THREADS\"] = \"1\"\n",
    "os.environ[\"MKL_NUM_THREADS\"] = \"1\"\n",
    "os.environ[\"VECLIB_MAXIMUM_THREADS\"] = \"1\"\n",
    "os.environ[\"NUMEXPR_NUM_THREADS\"] = \"1\"\n",
    "###############################################################################\n",
    "# Set TensorFlow print of log information\n",
    "# 0 = all messages are logged (default behavior)\n",
    "# 1 = INFO messages are not printed\n",
    "# 2 = INFO and WARNING messages are not printed\n",
    "# 3 = INFO, WARNING, and ERROR messages are not printed\n",
    "os.environ[\"TF_CPP_MIN_LOG_LEVEL\"] = \"2\"\n"
   ]
  },
  {
   "cell_type": "code",
   "execution_count": 19,
   "metadata": {},
   "outputs": [],
   "source": [
    "import pickle\n",
    "\n",
    "import matplotlib.pyplot as plt\n",
    "import numpy as np\n",
    "import pandas as pd\n",
    "\n",
    "from anomaly.constants import GALAXY_LINES\n",
    "from autoencoders.ae import AutoEncoder\n",
    "from sdss.metadata import MetaData\n",
    "from sdss.utils.managefiles import FileDirectory\n",
    "from anomaly.utils import specobjid_to_idx\n",
    "from astroExplain.spectra.notebook import interpret, explain_reconstruction_score\n",
    "\n",
    "meta = MetaData()\n",
    "%matplotlib inline"
   ]
  },
  {
   "cell_type": "code",
   "execution_count": 3,
   "metadata": {},
   "outputs": [],
   "source": [
    "# config\n",
    "bin_id = \"bin_04\"\n",
    "model_id = \"0013\"\n",
    "architecture = \"256_128_64/latent_12\"\n",
    "meta_data_directory = \"/home/edgar/spectra/0_01_z_0_5_4_0_snr_inf\"\n",
    "model_directory = f\"{meta_data_directory}/{bin_id}/models/{architecture}/{model_id}\"\n",
    "explanations_directory = f\"{meta_data_directory}/{bin_id}/explanation/{architecture}\""
   ]
  },
  {
   "cell_type": "code",
   "execution_count": 4,
   "metadata": {},
   "outputs": [],
   "source": [
    "# load data\n",
    "wave = np.load(f\"{meta_data_directory}/wave.npy\")\n",
    "meta_data_df = pd.read_csv(f\"{meta_data_directory}/0_01_z_0_5_4_0_snr_inf.csv.gz\", index_col=\"specobjid\")\n",
    "model = AutoEncoder(reload=True, reload_from=model_directory)"
   ]
  },
  {
   "cell_type": "markdown",
   "metadata": {},
   "source": [
    "## Explore common anomalies of different scores"
   ]
  },
  {
   "cell_type": "markdown",
   "metadata": {},
   "source": [
    "### $L^p$ scores"
   ]
  },
  {
   "cell_type": "code",
   "execution_count": 5,
   "metadata": {},
   "outputs": [],
   "source": [
    "intersection_directory = f\"{explanations_directory}/intersections\"\n",
    "specobjid_common_anomalies = np.load(f\"{intersection_directory}/specobjid_lp_intersection_1000.npy\")\n",
    "spectra = np.load(f\"{meta_data_directory}/spectra.npy\", mmap_mode=\"r\")\n",
    "idx_id = np.load(f\"{meta_data_directory}/{bin_id}/{bin_id}_index_specobjid.npy\")"
   ]
  },
  {
   "cell_type": "markdown",
   "metadata": {},
   "source": [
    "### generate explanation in notebook"
   ]
  },
  {
   "cell_type": "code",
   "execution_count": 91,
   "metadata": {},
   "outputs": [
    {
     "name": "stdout",
     "output_type": "stream",
     "text": [
      "Set explainer and Get explanations\n",
      "Get heat map of explanation\n",
      "http://skyserver.sdss.org/dr16/en/tools/explore/summary.aspx?sid=1119315802055534592&apid=\n"
     ]
    },
    {
     "data": {
      "image/png": "[encoded data removed]",
      "text/plain": [
       "<Figure size 720x360 with 2 Axes>"
      ]
     },
     "metadata": {
      "needs_background": "light"
     },
     "output_type": "display_data"
    }
   ],
   "source": [
    "# config file\n",
    "score_config = {\n",
    "    \"metric\": \"mse\",\n",
    "    \"velocity\": 0,\n",
    "# if reconstruction\n",
    "    \"relative\": True,\n",
    "    \"percentage\": 100,\n",
    "    \"epsilon\": 0.001,\n",
    "    \"lines\": list(GALAXY_LINES.keys())\n",
    "}\n",
    "lime_config = {\n",
    "# segmentation: [uniform, kmeans]\n",
    "# with kmeans it is a good idea to put a large number\n",
    "# of segments in order to let it find a more suitable\n",
    "# configuration\n",
    "    \"segmentation\": \"uniform\",\n",
    "    \"number_segments\": 512,\n",
    "    \"number_samples\": 5000,\n",
    "    \"batch_size\": 100,\n",
    "    \"progress_bar\": False,\n",
    "    \"distance_metric\": \"cosine\",\n",
    "    \"number_features\": 10000\n",
    "}\n",
    "fudge_config = {\n",
    "# same, same_shape, flat, with_mean, gaussians\n",
    "    \"kind_of_fudge\": \"gaussians\",\n",
    "# flat\n",
    "    \"continuum\": 1,\n",
    "# gaussians\n",
    "    \"amplitude\":1.,\n",
    "    \"sigmas_in_segment\": 8,\n",
    "# control-noise\n",
    "    \"same_noise\": True,\n",
    "    \"kernel_size\": 3,\n",
    "    \"sigma\": 1\n",
    "}\n",
    "# Load notebook with anomalies\n",
    "anomaly_from_score = \"mse_rel100\"\n",
    "anomalies_df = pd.read_csv(\n",
    "    f\"{explanations_directory}/{anomaly_from_score}/top_anomalies.csv.gz\",\n",
    "    index_col=\"specobjid\"\n",
    ")\n",
    "# meta.get_sky_server_url(anomalies_df.index[-4])\n",
    "# plt.plot(wave, galaxy)\n",
    "specobjid = anomalies_df.index[-42]\n",
    "idx_spectrum = specobjid_to_idx(specobjid, idx_id)\n",
    "spectrum = spectra[idx_spectrum]\n",
    "\n",
    "explanation = explain_reconstruction_score(\n",
    "    wave, spectrum,\n",
    "    score_config, lime_config, fudge_config,\n",
    "    model\n",
    ")\n",
    "\n",
    "fig, axs = interpret(wave, explanation=explanation, positive=0, negative=1)\n",
    "print(meta.get_sky_server_url(specobjid))\n",
    "\n",
    "save_to = f\"/home/edgar/gdrive/ai/presentations/iml_cata/explantions\"\n",
    "FileDirectory.check_directory(save_to, exit_program=False)\n",
    "fudge_method = f\"{lime_config['segmentation']}_{lime_config['number_segments']}_{fudge_config['kind_of_fudge']}\"\n",
    "\n",
    "with open(f\"{save_to}/{specobjid}_{anomaly_from_score}_{fudge_method}.pkl\", \"wb\") as file:\n",
    "    pickle.dump(explanation, file)"
   ]
  },
  {
   "cell_type": "code",
   "execution_count": 65,
   "metadata": {},
   "outputs": [],
   "source": [
    "from astroExplain.spectra.neighbors import ImageNeighbors\n",
    "from astroExplain.spectra.segment import SpectraSegmentation"
   ]
  },
  {
   "cell_type": "code",
   "execution_count": null,
   "metadata": {},
   "outputs": [],
   "source": []
  },
  {
   "cell_type": "code",
   "execution_count": 66,
   "metadata": {},
   "outputs": [
    {
     "data": {
      "text/plain": [
       "(1, 3776, 3)"
      ]
     },
     "execution_count": 66,
     "metadata": {},
     "output_type": "execute_result"
    }
   ],
   "source": [
    "explanation.image.shape"
   ]
  },
  {
   "cell_type": "code",
   "execution_count": 68,
   "metadata": {},
   "outputs": [],
   "source": [
    "kmeans_segmentation = SpectraSegmentation().kmeans\n",
    "uniform_segmentation = SpectraSegmentation().uniform\n",
    "neighbors = ImageNeighbors(explanation.image, wave=wave, segmentation_function=kmeans_segmentation)"
   ]
  },
  {
   "cell_type": "code",
   "execution_count": 85,
   "metadata": {},
   "outputs": [
    {
     "name": "stdout",
     "output_type": "stream",
     "text": [
      "1.0 0.2\n"
     ]
    }
   ],
   "source": [
    "tata = neighbors.get_neighbors(hide_color=\"gaussians\")"
   ]
  },
  {
   "cell_type": "code",
   "execution_count": 89,
   "metadata": {},
   "outputs": [
    {
     "data": {
      "text/plain": [
       "[<matplotlib.lines.Line2D at 0x7fe4fad77220>]"
      ]
     },
     "execution_count": 89,
     "metadata": {},
     "output_type": "execute_result"
    },
    {
     "data": {
      "image/png": "[encoded data removed]",
      "text/plain": [
       "<Figure size 432x288 with 1 Axes>"
      ]
     },
     "metadata": {
      "needs_background": "light"
     },
     "output_type": "display_data"
    }
   ],
   "source": [
    "plt.plot(wave, tata[20, 0, :, 0])"
   ]
  },
  {
   "cell_type": "code",
   "execution_count": null,
   "metadata": {},
   "outputs": [],
   "source": []
  }
 ],
 "metadata": {
  "kernelspec": {
   "display_name": "Python 3.10.4 64-bit",
   "language": "python",
   "name": "python3"
  },
  "language_info": {
   "codemirror_mode": {
    "name": "ipython",
    "version": 3
   },
   "file_extension": ".py",
   "mimetype": "text/x-python",
   "name": "python",
   "nbconvert_exporter": "python",
   "pygments_lexer": "ipython3",
   "version": "3.10.4"
  },
  "orig_nbformat": 4,
  "vscode": {
   "interpreter": {
    "hash": "916dbcbb3f70747c44a77c7bcd40155683ae19c65e1c03b4aa3499c5328201f1"
   }
  }
 },
 "nbformat": 4,
 "nbformat_minor": 2
}
