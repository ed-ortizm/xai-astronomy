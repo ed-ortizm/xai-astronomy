{
 "cells": [
  {
   "cell_type": "code",
   "execution_count": 1,
   "metadata": {},
   "outputs": [],
   "source": [
    "# %load_ext autoreload\n",
    "# %autoreload 2"
   ]
  },
  {
   "cell_type": "markdown",
   "metadata": {},
   "source": [
    "## iml example for the paper\n",
    "* An anomaly with bad sky subtraction\n",
    "* [Ne III] $\\lambda 3868$ anomaly from $MSE$ and $MSE$ with filter\n",
    "* Supernova\n",
    "* AGN\n",
    "* Red object"
   ]
  },
  {
   "cell_type": "code",
   "execution_count": 1,
   "metadata": {},
   "outputs": [],
   "source": [
    "import os\n",
    "\n",
    "# Set environment variables to disable multithreading as users will probably\n",
    "# want to set the number of cores to the max of their computer.\n",
    "os.environ[\"OMP_NUM_THREADS\"] = \"1\"\n",
    "os.environ[\"OPENBLAS_NUM_THREADS\"] = \"1\"\n",
    "os.environ[\"MKL_NUM_THREADS\"] = \"1\"\n",
    "os.environ[\"VECLIB_MAXIMUM_THREADS\"] = \"1\"\n",
    "os.environ[\"NUMEXPR_NUM_THREADS\"] = \"1\"\n",
    "###############################################################################\n",
    "# Set TensorFlow print of log information\n",
    "# 0 = all messages are logged (default behavior)\n",
    "# 1 = INFO messages are not printed\n",
    "# 2 = INFO and WARNING messages are not printed\n",
    "# 3 = INFO, WARNING, and ERROR messages are not printed\n",
    "os.environ[\"TF_CPP_MIN_LOG_LEVEL\"] = \"2\"\n"
   ]
  },
  {
   "cell_type": "code",
   "execution_count": 2,
   "metadata": {},
   "outputs": [],
   "source": [
    "import pickle\n",
    "\n",
    "import matplotlib.pyplot as plt\n",
    "import numpy as np\n",
    "import pandas as pd\n",
    "\n",
    "from anomaly.constants import GALAXY_LINES\n",
    "from autoencoders.ae import AutoEncoder\n",
    "from sdss.metadata import MetaData\n",
    "from sdss.utils.managefiles import FileDirectory\n",
    "from anomaly.utils import specobjid_to_idx\n",
    "from astroExplain.spectra.notebook import interpret, explain_reconstruction_score\n",
    "\n",
    "meta = MetaData()\n",
    "%matplotlib inline"
   ]
  },
  {
   "cell_type": "code",
   "execution_count": 30,
   "metadata": {},
   "outputs": [],
   "source": [
    "def score_name(\n",
    "    score_config: dict,\n",
    ") -> str:\n",
    "\n",
    "    score = score_config['metric']\n",
    "    velocity = score_config['velocity']\n",
    "    relative = score_config['relative']\n",
    "    percentage = score_config['percentage']\n",
    "\n",
    "    metric = f\"{score}\"\n",
    "\n",
    "    if velocity != 0:\n",
    "        metric = f\"{metric}_filter_{velocity}kms\"\n",
    "\n",
    "    if relative is True:\n",
    "\n",
    "        metric = f\"{metric}_rel{percentage}\"\n",
    "    \n",
    "    else:\n",
    "\n",
    "        metric = f\"{metric}_noRel{percentage}\"\n",
    "\n",
    "    return metric\n",
    "\n",
    "def explanation_name(lime_config: dict, fudge_config: dict) -> str:\n",
    "\n",
    "    segmentation = lime_config['segmentation']\n",
    "    n_segments = lime_config['number_segments']\n",
    "    perturbation = fudge_config['kind_of_fudge']\n",
    "    \n",
    "    explanation_str = f\"{segmentation}_{n_segments}_{perturbation}\"\n",
    "\n",
    "    if perturbation == \"scale\":\n",
    "\n",
    "        scale_factor = fudge_config['scale_factor']\n",
    "        explanation_str = f\"{explanation_str}_{scale_factor}\"\n",
    "\n",
    "    return explanation_str"
   ]
  },
  {
   "cell_type": "code",
   "execution_count": 23,
   "metadata": {},
   "outputs": [],
   "source": [
    "# config\n",
    "bin_id = \"bin_04\"\n",
    "model_id = \"0013\"\n",
    "architecture = \"256_128_64/latent_12\"\n",
    "meta_data_directory = \"/home/edgar/spectra/0_01_z_0_5_4_0_snr_inf\"\n",
    "model_directory = f\"{meta_data_directory}/{bin_id}/models/{architecture}/{model_id}\"\n",
    "explanations_directory = f\"{meta_data_directory}/{bin_id}/explanation/{architecture}\""
   ]
  },
  {
   "cell_type": "code",
   "execution_count": 24,
   "metadata": {},
   "outputs": [],
   "source": [
    "# load data\n",
    "wave = np.load(f\"{meta_data_directory}/wave.npy\")\n",
    "meta_data_df = pd.read_csv(f\"{meta_data_directory}/0_01_z_0_5_4_0_snr_inf.csv.gz\", index_col=\"specobjid\")\n",
    "model = AutoEncoder(reload=True, reload_from=model_directory)\n",
    "spectra = np.load(f\"{meta_data_directory}/spectra.npy\", mmap_mode=\"r\")\n",
    "idx_id = np.load(f\"{meta_data_directory}/{bin_id}/{bin_id}_index_specobjid.npy\")"
   ]
  },
  {
   "cell_type": "markdown",
   "metadata": {},
   "source": [
    "## MSE"
   ]
  },
  {
   "cell_type": "markdown",
   "metadata": {},
   "source": [
    "Bad sky substraction"
   ]
  },
  {
   "cell_type": "code",
   "execution_count": 28,
   "metadata": {},
   "outputs": [
    {
     "name": "stdout",
     "output_type": "stream",
     "text": [
      "Set explainer and Get explanations\n",
      "Get heat map of explanation\n",
      "http://skyserver.sdss.org/dr16/en/tools/explore/summary.aspx?sid=637325355518027776&apid=\n"
     ]
    },
    {
     "data": {
      "image/png": "[encoded data removed]",
      "text/plain": [
       "<Figure size 432x288 with 2 Axes>"
      ]
     },
     "metadata": {
      "needs_background": "light"
     },
     "output_type": "display_data"
    }
   ],
   "source": [
    "# config file\n",
    "score_config = {\n",
    "    \"metric\": \"mse\",\n",
    "    \"velocity\": 0,\n",
    "# if reconstruction\n",
    "    \"relative\": False,\n",
    "    \"percentage\": 100,\n",
    "    \"epsilon\": 0.001,\n",
    "    \"lines\": list(GALAXY_LINES.keys())\n",
    "}\n",
    "lime_config = {\n",
    "    \"segmentation\": \"uniform\",\n",
    "    \"number_segments\": 64,\n",
    "    \"number_samples\": 5000,\n",
    "    \"batch_size\": 100,\n",
    "    \"progress_bar\": False,\n",
    "    \"distance_metric\": \"cosine\",\n",
    "    \"number_features\": 10000\n",
    "}\n",
    "fudge_config = {\n",
    "# same, same_shape, flat, with_mean, gaussians, scale\n",
    "    \"kind_of_fudge\": \"scale\",\n",
    "# scale\n",
    "    \"scale_factor\": 0.9,\n",
    "# flat\n",
    "    \"continuum\": 1,\n",
    "# gaussians\n",
    "    \"amplitude\":1.,\n",
    "    \"sigmas_in_segment\": 8,\n",
    "# control-noise\n",
    "    \"same_noise\": True,\n",
    "    \"kernel_size\": 3,\n",
    "    \"sigma\": 0\n",
    "}\n",
    "# Load data frame with anomalies\n",
    "anomaly_from_score = score_name(score_config)\n",
    "anomalies_df = pd.read_csv(\n",
    "    f\"{explanations_directory}/{anomaly_from_score}/top_anomalies.csv.gz\",\n",
    "    index_col=\"specobjid\"\n",
    ")\n",
    "\n",
    "specobjid = anomalies_df.index[-94]\n",
    "idx_spectrum = specobjid_to_idx(specobjid, idx_id)\n",
    "spectrum = spectra[idx_spectrum]\n",
    "\n",
    "explanation = explain_reconstruction_score(\n",
    "    wave, spectrum,\n",
    "    score_config, lime_config, fudge_config,\n",
    "    model\n",
    ")\n",
    "\n",
    "fig, axs = interpret(wave, explanation=explanation, positive=0, negative=0, figsize=None)\n",
    "print(meta.get_sky_server_url(specobjid))\n",
    "\n",
    "fig.suptitle(f\"specobjid: {specobjid}\")\n",
    "fig.tight_layout()\n",
    "\n",
    "save_to = \"/home/edgar/explain-me-why/sections/figures/explanations\"\n",
    "FileDirectory.check_directory(save_to, exit_program=False)\n",
    "explanation_Str = explanation_name(lime_config, fudge_config)\n",
    "\n",
    "fig.savefig(\n",
    "    f\"{save_to}/{specobjid}_{anomaly_from_score}_{explanation_Str}.pdf\"\n",
    ")"
   ]
  },
  {
   "cell_type": "markdown",
   "metadata": {},
   "source": [
    "Strong emission patterns"
   ]
  },
  {
   "cell_type": "code",
   "execution_count": 68,
   "metadata": {},
   "outputs": [
    {
     "name": "stdout",
     "output_type": "stream",
     "text": [
      "Set explainer and Get explanations\n",
      "Get heat map of explanation\n",
      "http://skyserver.sdss.org/dr16/en/tools/explore/summary.aspx?sid=3240467000396376064&apid=\n"
     ]
    },
    {
     "data": {
      "image/png": "[encoded data removed]",
      "text/plain": [
       "<Figure size 432x288 with 2 Axes>"
      ]
     },
     "metadata": {
      "needs_background": "light"
     },
     "output_type": "display_data"
    }
   ],
   "source": [
    "# config file\n",
    "score_config = {\n",
    "    \"metric\": \"mse\",\n",
    "    \"velocity\": 0,\n",
    "# if reconstruction\n",
    "    \"relative\": False,\n",
    "    \"percentage\": 100,\n",
    "    \"epsilon\": 0.001,\n",
    "    \"lines\": list(GALAXY_LINES.keys())\n",
    "}\n",
    "lime_config = {\n",
    "    \"segmentation\": \"uniform\",\n",
    "    \"number_segments\": 128,\n",
    "    \"number_samples\": 5000,\n",
    "    \"batch_size\": 100,\n",
    "    \"progress_bar\": False,\n",
    "    \"distance_metric\": \"cosine\",\n",
    "    \"number_features\": 10000\n",
    "}\n",
    "fudge_config = {\n",
    "# same, same_shape, flat, with_mean, gaussians, scale\n",
    "    \"kind_of_fudge\": \"scale\",\n",
    "# scale\n",
    "    \"scale_factor\": 0.9,\n",
    "# flat\n",
    "    \"continuum\": 1,\n",
    "# gaussians\n",
    "    \"amplitude\":1.,\n",
    "    \"sigmas_in_segment\": 8,\n",
    "# control-noise\n",
    "    \"same_noise\": True,\n",
    "    \"kernel_size\": 3,\n",
    "    \"sigma\": 0\n",
    "}\n",
    "# Load data frame with anomalies\n",
    "anomaly_from_score = score_name(score_config)\n",
    "anomalies_df = pd.read_csv(\n",
    "    f\"{explanations_directory}/{anomaly_from_score}/top_anomalies.csv.gz\",\n",
    "    index_col=\"specobjid\"\n",
    ")\n",
    "\n",
    "specobjid = anomalies_df.index[-22]\n",
    "idx_spectrum = specobjid_to_idx(specobjid, idx_id)\n",
    "spectrum = spectra[idx_spectrum]\n",
    "\n",
    "explanation = explain_reconstruction_score(\n",
    "    wave, spectrum,\n",
    "    score_config, lime_config, fudge_config,\n",
    "    model\n",
    ")\n",
    "\n",
    "fig, axs = interpret(wave, explanation=explanation, positive=0, negative=0, figsize=None)\n",
    "print(meta.get_sky_server_url(specobjid))\n",
    "\n",
    "fig.suptitle(f\"specobjid: {specobjid}\")\n",
    "fig.tight_layout()\n",
    "\n",
    "save_to = \"/home/edgar/explain-me-why/sections/figures/explanations\"\n",
    "FileDirectory.check_directory(save_to, exit_program=False)\n",
    "explanation_Str = explanation_name(lime_config, fudge_config)\n",
    "\n",
    "fig.savefig(\n",
    "    f\"{save_to}/{specobjid}_{anomaly_from_score}_{explanation_Str}.pdf\"\n",
    ")"
   ]
  },
  {
   "cell_type": "markdown",
   "metadata": {},
   "source": [
    "### MSE with 250 kms-1 filter"
   ]
  },
  {
   "cell_type": "markdown",
   "metadata": {},
   "source": [
    "Broad emission line spectrum"
   ]
  },
  {
   "cell_type": "code",
   "execution_count": 34,
   "metadata": {},
   "outputs": [
    {
     "name": "stdout",
     "output_type": "stream",
     "text": [
      "Set explainer and Get explanations\n",
      "Get heat map of explanation\n",
      "http://skyserver.sdss.org/dr16/en/tools/explore/summary.aspx?sid=1924292192684238848&apid=\n"
     ]
    },
    {
     "data": {
      "image/png": "[encoded data removed]",
      "text/plain": [
       "<Figure size 432x288 with 2 Axes>"
      ]
     },
     "metadata": {
      "needs_background": "light"
     },
     "output_type": "display_data"
    }
   ],
   "source": [
    "# config file\n",
    "score_config = {\n",
    "    \"metric\": \"mse\",\n",
    "    \"velocity\": 250,\n",
    "# if reconstruction\n",
    "    \"relative\": False,\n",
    "    \"percentage\": 100,\n",
    "    \"epsilon\": 0.001,\n",
    "    \"lines\": list(GALAXY_LINES.keys())\n",
    "}\n",
    "lime_config = {\n",
    "    \"segmentation\": \"uniform\",\n",
    "    \"number_segments\": 128,\n",
    "    \"number_samples\": 5000,\n",
    "    \"batch_size\": 100,\n",
    "    \"progress_bar\": False,\n",
    "    \"distance_metric\": \"cosine\",\n",
    "    \"number_features\": 10000\n",
    "}\n",
    "fudge_config = {\n",
    "# same, same_shape, flat, with_mean, gaussians, scale\n",
    "    \"kind_of_fudge\": \"scale\",\n",
    "# scale\n",
    "    \"scale_factor\": 0.9,\n",
    "# flat\n",
    "    \"continuum\": 1,\n",
    "# gaussians\n",
    "    \"amplitude\":1.,\n",
    "    \"sigmas_in_segment\": 8,\n",
    "# control-noise\n",
    "    \"same_noise\": True,\n",
    "    \"kernel_size\": 3,\n",
    "    \"sigma\": 0\n",
    "}\n",
    "# load data frame with anomalies\n",
    "anomaly_from_score = score_name(score_config)\n",
    "anomalies_df = pd.read_csv(\n",
    "    f\"{explanations_directory}/{anomaly_from_score}/top_anomalies.csv.gz\",\n",
    "    index_col=\"specobjid\"\n",
    ")\n",
    "\n",
    "specobjid = anomalies_df.index[-56]\n",
    "idx_spectrum = specobjid_to_idx(specobjid, idx_id)\n",
    "spectrum = spectra[idx_spectrum]\n",
    "\n",
    "explanation = explain_reconstruction_score(\n",
    "    wave, spectrum,\n",
    "    score_config, lime_config, fudge_config,\n",
    "    model\n",
    ")\n",
    "\n",
    "fig, axs = interpret(wave, explanation=explanation, positive=0, negative=0, figsize=None)\n",
    "print(meta.get_sky_server_url(specobjid))\n",
    "\n",
    "fig.suptitle(f\"specobjid: {specobjid}\")\n",
    "fig.tight_layout()\n",
    "\n",
    "save_to = \"/home/edgar/explain-me-why/sections/figures/explanations\"\n",
    "FileDirectory.check_directory(save_to, exit_program=False)\n",
    "explanation_Str = explanation_name(lime_config, fudge_config)\n",
    "\n",
    "fig.savefig(\n",
    "    f\"{save_to}/{specobjid}_{anomaly_from_score}_{explanation_Str}.pdf\"\n",
    ")"
   ]
  },
  {
   "cell_type": "markdown",
   "metadata": {},
   "source": [
    "Spectrum with a glitch"
   ]
  },
  {
   "cell_type": "code",
   "execution_count": 48,
   "metadata": {},
   "outputs": [
    {
     "name": "stdout",
     "output_type": "stream",
     "text": [
      "Set explainer and Get explanations\n",
      "Get heat map of explanation\n",
      "http://skyserver.sdss.org/dr16/en/tools/explore/summary.aspx?sid=407686575611209728&apid=\n"
     ]
    },
    {
     "data": {
      "image/png": "[encoded data removed]",
      "text/plain": [
       "<Figure size 432x288 with 2 Axes>"
      ]
     },
     "metadata": {
      "needs_background": "light"
     },
     "output_type": "display_data"
    }
   ],
   "source": [
    "# config file\n",
    "score_config = {\n",
    "    \"metric\": \"mse\",\n",
    "    \"velocity\": 250,\n",
    "# if reconstruction\n",
    "    \"relative\": False,\n",
    "    \"percentage\": 100,\n",
    "    \"epsilon\": 0.001,\n",
    "    \"lines\": list(GALAXY_LINES.keys())\n",
    "}\n",
    "lime_config = {\n",
    "# segmentation: [uniform, kmeans]\n",
    "# with kmeans it is a good idea to put a large number\n",
    "# of segments in order to let it find a more suitable\n",
    "# configuration\n",
    "    \"segmentation\": \"uniform\",\n",
    "    \"number_segments\": 64,\n",
    "    \"number_samples\": 5000,\n",
    "    \"batch_size\": 100,\n",
    "    \"progress_bar\": False,\n",
    "    \"distance_metric\": \"cosine\",\n",
    "    \"number_features\": 10000\n",
    "}\n",
    "fudge_config = {\n",
    "# same, same_shape, flat, with_mean, gaussians, scale\n",
    "    \"kind_of_fudge\": \"scale\",\n",
    "# scale\n",
    "    \"scale_factor\": 0.9,\n",
    "# flat\n",
    "    \"continuum\": 1,\n",
    "# gaussians\n",
    "    \"amplitude\":1.,\n",
    "    \"sigmas_in_segment\": 8,\n",
    "# control-noise\n",
    "    \"same_noise\": True,\n",
    "    \"kernel_size\": 3,\n",
    "    \"sigma\": 1\n",
    "}# load data frame with anomalies\n",
    "anomaly_from_score = score_name(score_config)\n",
    "anomalies_df = pd.read_csv(\n",
    "    f\"{explanations_directory}/{anomaly_from_score}/top_anomalies.csv.gz\",\n",
    "    index_col=\"specobjid\"\n",
    ")\n",
    "\n",
    "specobjid = anomalies_df.index[-14]\n",
    "idx_spectrum = specobjid_to_idx(specobjid, idx_id)\n",
    "spectrum = spectra[idx_spectrum]\n",
    "\n",
    "explanation = explain_reconstruction_score(\n",
    "    wave, spectrum,\n",
    "    score_config, lime_config, fudge_config,\n",
    "    model\n",
    ")\n",
    "\n",
    "fig, axs = interpret(wave, explanation=explanation, positive=0, negative=0, figsize=None)\n",
    "print(meta.get_sky_server_url(specobjid))\n",
    "\n",
    "fig.suptitle(f\"specobjid: {specobjid}\")\n",
    "fig.tight_layout()\n",
    "\n",
    "save_to = \"/home/edgar/explain-me-why/sections/figures/explanations\"\n",
    "FileDirectory.check_directory(save_to, exit_program=False)\n",
    "explanation_Str = explanation_name(lime_config, fudge_config)\n",
    "\n",
    "fig.savefig(\n",
    "    f\"{save_to}/{specobjid}_{anomaly_from_score}_{explanation_Str}.pdf\"\n",
    ")"
   ]
  },
  {
   "cell_type": "markdown",
   "metadata": {},
   "source": [
    "### MSE with 250 kms-1 filter after ignoring 3% of the largest residuals"
   ]
  },
  {
   "cell_type": "markdown",
   "metadata": {},
   "source": [
    "Spectrum with weird bump"
   ]
  },
  {
   "cell_type": "code",
   "execution_count": 49,
   "metadata": {},
   "outputs": [
    {
     "name": "stdout",
     "output_type": "stream",
     "text": [
      "Set explainer and Get explanations\n",
      "Get heat map of explanation\n",
      "http://skyserver.sdss.org/dr16/en/tools/explore/summary.aspx?sid=2664004586678806528&apid=\n"
     ]
    },
    {
     "data": {
      "image/png": "[encoded data removed]",
      "text/plain": [
       "<Figure size 432x288 with 2 Axes>"
      ]
     },
     "metadata": {
      "needs_background": "light"
     },
     "output_type": "display_data"
    }
   ],
   "source": [
    "# config file\n",
    "score_config = {\n",
    "    \"metric\": \"mse\",\n",
    "    \"velocity\": 250,\n",
    "# if reconstruction\n",
    "    \"relative\": False,\n",
    "    \"percentage\": 97,\n",
    "    \"epsilon\": 0.001,\n",
    "    \"lines\": list(GALAXY_LINES.keys())\n",
    "}\n",
    "lime_config = {\n",
    "# segmentation: [uniform, kmeans]\n",
    "# with kmeans it is a good idea to put a large number\n",
    "# of segments in order to let it find a more suitable\n",
    "# configuration\n",
    "    \"segmentation\": \"uniform\",\n",
    "    \"number_segments\": 64,\n",
    "    \"number_samples\": 5000,\n",
    "    \"batch_size\": 100,\n",
    "    \"progress_bar\": False,\n",
    "    \"distance_metric\": \"cosine\",\n",
    "    \"number_features\": 10000\n",
    "}\n",
    "fudge_config = {\n",
    "# same, same_shape, flat, with_mean, gaussians, scale\n",
    "    \"kind_of_fudge\": \"scale\",\n",
    "# scale\n",
    "    \"scale_factor\": 0.9,\n",
    "# flat\n",
    "    \"continuum\": 1,\n",
    "# gaussians\n",
    "    \"amplitude\":1.,\n",
    "    \"sigmas_in_segment\": 8,\n",
    "# control-noise\n",
    "    \"same_noise\": True,\n",
    "    \"kernel_size\": 3,\n",
    "    \"sigma\": 1\n",
    "}# load data frame with anomalies\n",
    "anomaly_from_score = score_name(score_config)\n",
    "anomalies_df = pd.read_csv(\n",
    "    f\"{explanations_directory}/{anomaly_from_score}/top_anomalies.csv.gz\",\n",
    "    index_col=\"specobjid\"\n",
    ")\n",
    "\n",
    "specobjid = anomalies_df.index[-98]\n",
    "idx_spectrum = specobjid_to_idx(specobjid, idx_id)\n",
    "spectrum = spectra[idx_spectrum]\n",
    "\n",
    "explanation = explain_reconstruction_score(\n",
    "    wave, spectrum,\n",
    "    score_config, lime_config, fudge_config,\n",
    "    model\n",
    ")\n",
    "\n",
    "fig, axs = interpret(wave, explanation=explanation, positive=0, negative=0, figsize=None)\n",
    "print(meta.get_sky_server_url(specobjid))\n",
    "\n",
    "fig.suptitle(f\"specobjid: {specobjid}\")\n",
    "fig.tight_layout()\n",
    "\n",
    "save_to = \"/home/edgar/explain-me-why/sections/figures/explanations\"\n",
    "FileDirectory.check_directory(save_to, exit_program=False)\n",
    "explanation_Str = explanation_name(lime_config, fudge_config)\n",
    "\n",
    "# fig.savefig(\n",
    "#     f\"{save_to}/{specobjid}_{anomaly_from_score}_{explanation_Str}.pdf\"\n",
    "# )"
   ]
  },
  {
   "cell_type": "markdown",
   "metadata": {},
   "source": [
    "bumpy spectrum"
   ]
  },
  {
   "cell_type": "code",
   "execution_count": 50,
   "metadata": {},
   "outputs": [
    {
     "name": "stdout",
     "output_type": "stream",
     "text": [
      "Set explainer and Get explanations\n",
      "Get heat map of explanation\n",
      "http://skyserver.sdss.org/dr16/en/tools/explore/summary.aspx?sid=2501881598136313856&apid=\n"
     ]
    },
    {
     "data": {
      "image/png": "[encoded data removed]",
      "text/plain": [
       "<Figure size 432x288 with 2 Axes>"
      ]
     },
     "metadata": {
      "needs_background": "light"
     },
     "output_type": "display_data"
    }
   ],
   "source": [
    "# config file\n",
    "score_config = {\n",
    "    \"metric\": \"mse\",\n",
    "    \"velocity\": 250,\n",
    "# if reconstruction\n",
    "    \"relative\": False,\n",
    "    \"percentage\": 97,\n",
    "    \"epsilon\": 0.001,\n",
    "    \"lines\": list(GALAXY_LINES.keys())\n",
    "}\n",
    "lime_config = {\n",
    "# segmentation: [uniform, kmeans]\n",
    "# with kmeans it is a good idea to put a large number\n",
    "# of segments in order to let it find a more suitable\n",
    "# configuration\n",
    "    \"segmentation\": \"uniform\",\n",
    "    \"number_segments\": 64,\n",
    "    \"number_samples\": 5000,\n",
    "    \"batch_size\": 100,\n",
    "    \"progress_bar\": False,\n",
    "    \"distance_metric\": \"cosine\",\n",
    "    \"number_features\": 10000\n",
    "}\n",
    "fudge_config = {\n",
    "# same, same_shape, flat, with_mean, gaussians, scale\n",
    "    \"kind_of_fudge\": \"scale\",\n",
    "# scale\n",
    "    \"scale_factor\": 0.9,\n",
    "# flat\n",
    "    \"continuum\": 1,\n",
    "# gaussians\n",
    "    \"amplitude\":1.,\n",
    "    \"sigmas_in_segment\": 8,\n",
    "# control-noise\n",
    "    \"same_noise\": True,\n",
    "    \"kernel_size\": 3,\n",
    "    \"sigma\": 1\n",
    "}\n",
    "anomaly_from_score = score_name(score_config)\n",
    "anomalies_df = pd.read_csv(\n",
    "    f\"{explanations_directory}/{anomaly_from_score}/top_anomalies.csv.gz\",\n",
    "    index_col=\"specobjid\"\n",
    ")\n",
    "\n",
    "specobjid = anomalies_df.index[-7]\n",
    "idx_spectrum = specobjid_to_idx(specobjid, idx_id)\n",
    "spectrum = spectra[idx_spectrum]\n",
    "\n",
    "explanation = explain_reconstruction_score(\n",
    "    wave, spectrum,\n",
    "    score_config, lime_config, fudge_config,\n",
    "    model\n",
    ")\n",
    "\n",
    "fig, axs = interpret(wave, explanation=explanation, positive=0, negative=0, figsize=None)\n",
    "print(meta.get_sky_server_url(specobjid))\n",
    "\n",
    "fig.suptitle(f\"specobjid: {specobjid}\")\n",
    "fig.tight_layout()\n",
    "\n",
    "save_to = \"/home/edgar/explain-me-why/sections/figures/explanations\"\n",
    "FileDirectory.check_directory(save_to, exit_program=False)\n",
    "explanation_Str = explanation_name(lime_config, fudge_config)\n",
    "\n",
    "# fig.savefig(\n",
    "#     f\"{save_to}/{specobjid}_{anomaly_from_score}_{explanation_Str}.pdf\"\n",
    "# )"
   ]
  },
  {
   "cell_type": "code",
   "execution_count": null,
   "metadata": {},
   "outputs": [],
   "source": []
  }
 ],
 "metadata": {
  "kernelspec": {
   "display_name": "Python 3.10.4 64-bit",
   "language": "python",
   "name": "python3"
  },
  "language_info": {
   "codemirror_mode": {
    "name": "ipython",
    "version": 3
   },
   "file_extension": ".py",
   "mimetype": "text/x-python",
   "name": "python",
   "nbconvert_exporter": "python",
   "pygments_lexer": "ipython3",
   "version": "3.10.4"
  },
  "orig_nbformat": 4,
  "vscode": {
   "interpreter": {
    "hash": "916dbcbb3f70747c44a77c7bcd40155683ae19c65e1c03b4aa3499c5328201f1"
   }
  }
 },
 "nbformat": 4,
 "nbformat_minor": 2
}
