{
 "cells": [
  {
   "cell_type": "markdown",
   "metadata": {},
   "source": [
    "### Test robustness of VAE for perturbed spectra using different fudging and different segmentation"
   ]
  },
  {
   "cell_type": "code",
   "execution_count": 2,
   "metadata": {},
   "outputs": [],
   "source": [
    "import os\n",
    "\n",
    "# Set environment variables to disable multithreading as users will probably\n",
    "# want to set the number of cores to the max of their computer.\n",
    "os.environ[\"OMP_NUM_THREADS\"] = \"1\"\n",
    "os.environ[\"OPENBLAS_NUM_THREADS\"] = \"1\"\n",
    "os.environ[\"MKL_NUM_THREADS\"] = \"1\"\n",
    "os.environ[\"VECLIB_MAXIMUM_THREADS\"] = \"1\"\n",
    "os.environ[\"NUMEXPR_NUM_THREADS\"] = \"1\"\n",
    "###############################################################################\n",
    "# Set TensorFlow print of log information\n",
    "# 0 = all messages are logged (default behavior)\n",
    "# 1 = INFO messages are not printed\n",
    "# 2 = INFO and WARNING messages are not printed\n",
    "# 3 = INFO, WARNING, and ERROR messages are not printed\n",
    "os.environ[\"TF_CPP_MIN_LOG_LEVEL\"] = \"2\"\n"
   ]
  },
  {
   "cell_type": "code",
   "execution_count": 5,
   "metadata": {},
   "outputs": [],
   "source": [
    "import matplotlib.pyplot as plt\n",
    "import numpy as np\n",
    "import pandas as pd\n",
    "\n",
    "from anomaly.constants import GALAXY_LINES\n",
    "from autoencoders.ae import AutoEncoder\n",
    "from sdss.metadata import MetaData\n",
    "from sdss.utils.managefiles import FileDirectory\n",
    "from anomaly.utils import specobjid_to_idx\n",
    "\n",
    "meta = MetaData()\n",
    "%matplotlib inline"
   ]
  },
  {
   "cell_type": "code",
   "execution_count": 6,
   "metadata": {},
   "outputs": [],
   "source": [
    "# config\n",
    "bin_id = \"bin_04\"\n",
    "model_id = \"0013\"\n",
    "architecture = \"256_128_64/latent_12\"\n",
    "meta_data_directory = \"/home/edgar/spectra/0_01_z_0_5_4_0_snr_inf\"\n",
    "model_directory = f\"{meta_data_directory}/{bin_id}/models/{architecture}/{model_id}\"\n",
    "explanations_directory = f\"{meta_data_directory}/{bin_id}/explanation/{architecture}\""
   ]
  },
  {
   "cell_type": "code",
   "execution_count": 7,
   "metadata": {},
   "outputs": [],
   "source": [
    "# load data\n",
    "wave = np.load(f\"{meta_data_directory}/wave.npy\")\n",
    "meta_data_df = pd.read_csv(f\"{meta_data_directory}/0_01_z_0_5_4_0_snr_inf.csv.gz\", index_col=\"specobjid\")\n",
    "model = AutoEncoder(reload=True, reload_from=model_directory)"
   ]
  },
  {
   "cell_type": "markdown",
   "metadata": {},
   "source": [
    "## Explore different fudging and segmentation"
   ]
  },
  {
   "cell_type": "code",
   "execution_count": 8,
   "metadata": {},
   "outputs": [],
   "source": [
    "spectra = np.load(f\"{meta_data_directory}/spectra.npy\", mmap_mode=\"r\")\n",
    "idx_id = np.load(f\"{meta_data_directory}/{bin_id}/{bin_id}_index_specobjid.npy\")"
   ]
  },
  {
   "cell_type": "code",
   "execution_count": null,
   "metadata": {},
   "outputs": [],
   "source": []
  }
 ],
 "metadata": {
  "kernelspec": {
   "display_name": "Python 3.10.4 64-bit",
   "language": "python",
   "name": "python3"
  },
  "language_info": {
   "codemirror_mode": {
    "name": "ipython",
    "version": 3
   },
   "file_extension": ".py",
   "mimetype": "text/x-python",
   "name": "python",
   "nbconvert_exporter": "python",
   "pygments_lexer": "ipython3",
   "version": "3.10.4"
  },
  "orig_nbformat": 4,
  "vscode": {
   "interpreter": {
    "hash": "916dbcbb3f70747c44a77c7bcd40155683ae19c65e1c03b4aa3499c5328201f1"
   }
  }
 },
 "nbformat": 4,
 "nbformat_minor": 2
}
